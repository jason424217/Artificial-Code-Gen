{
 "cells": [
  {
   "cell_type": "code",
   "execution_count": null,
   "metadata": {},
   "outputs": [],
   "source": [
    "#Installing BootStrapping \n",
    "#https://stats.idre.ucla.edu/r/faq/how-can-i-generate-bootstrap-statistics-in-r/\n",
    "#https://stats.idre.ucla.edu/r/library/r-library-introduction-to-bootstrapping/\n",
    "install.packages(\"boot\",dep=TRUE)"
   ]
  },
  {
   "cell_type": "code",
   "execution_count": null,
   "metadata": {},
   "outputs": [],
   "source": [
    "library(boot)"
   ]
  },
  {
   "cell_type": "code",
   "execution_count": null,
   "metadata": {},
   "outputs": [],
   "source": [
    "#Reading Precisions\n",
    "approach <- '1f_VI.txt'\n",
    "system <- \"5_0/\"\n",
    "subpath <- paste(system,approach,sep=\"\")\n",
    "path <- paste(\"precision_outputs/\", subpath, sep=\"\")\n",
    "my_precision <- read.delim(path, header = FALSE, sep = \" \")"
   ]
  },
  {
   "cell_type": "code",
   "execution_count": null,
   "metadata": {},
   "outputs": [],
   "source": [
    "my_precision"
   ]
  },
  {
   "cell_type": "code",
   "execution_count": null,
   "metadata": {},
   "outputs": [],
   "source": [
    "#The statistic of interest here is the correlation coefficient of write and math.\n",
    "fm <- function(d, i){\n",
    "\td2 <- d[i,]\n",
    "\treturn(mean(d2$V2))\n",
    "}"
   ]
  },
  {
   "cell_type": "code",
   "execution_count": null,
   "metadata": {},
   "outputs": [],
   "source": [
    "#turn off set.seed() if you want the results to vary\n",
    "#set.seed(626)\n",
    "bootcorr <- boot(my_precision, fm, R=1000)\n",
    "bootcorr"
   ]
  },
  {
   "cell_type": "code",
   "execution_count": null,
   "metadata": {},
   "outputs": [],
   "source": [
    "#Description in: https://www.statmethods.net/advstats/bootstrapping.html\n",
    "#summary(bootcorr)"
   ]
  },
  {
   "cell_type": "code",
   "execution_count": null,
   "metadata": {},
   "outputs": [],
   "source": [
    "#The mean of correlations\n",
    "mean(bootcorr$t)"
   ]
  },
  {
   "cell_type": "code",
   "execution_count": null,
   "metadata": {},
   "outputs": [],
   "source": [
    "#t0\tThe observed values of k statistics applied to the orginal data.\n",
    "bootcorr$t0"
   ]
  },
  {
   "cell_type": "code",
   "execution_count": null,
   "metadata": {},
   "outputs": [],
   "source": [
    "#Computing the bias\n",
    "mean(bootcorr$t) - bootcorr$t0"
   ]
  },
  {
   "cell_type": "code",
   "execution_count": null,
   "metadata": {},
   "outputs": [],
   "source": [
    "#Standard Deviation of the bootstrap samples\n",
    "sd(bootcorr$t)"
   ]
  },
  {
   "cell_type": "code",
   "execution_count": null,
   "metadata": {},
   "outputs": [],
   "source": [
    "#plot(bootcorr)"
   ]
  },
  {
   "cell_type": "code",
   "execution_count": null,
   "metadata": {},
   "outputs": [],
   "source": [
    "#boot.ci(boot.out = bootcorr, type = c(\"norm\", \"basic\", \"perc\", \"bca\"))"
   ]
  },
  {
   "cell_type": "code",
   "execution_count": null,
   "metadata": {},
   "outputs": [],
   "source": [
    "subpathCSV <- paste(approach,\"[bst].csv\",sep=\"\")\n",
    "write.csv(bootcorr$t, file = subpathCSV)"
   ]
  },
  {
   "cell_type": "code",
   "execution_count": null,
   "metadata": {
    "heading_collapsed": true
   },
   "outputs": [],
   "source": [
    "# Ploting BoxPlots"
   ]
  },
  {
   "cell_type": "code",
   "execution_count": null,
   "metadata": {
    "hidden": true
   },
   "outputs": [],
   "source": []
  },
  {
   "cell_type": "code",
   "execution_count": null,
   "metadata": {},
   "outputs": [],
   "source": []
  }
 ],
 "metadata": {
  "kernelspec": {
   "display_name": "R",
   "language": "R",
   "name": "ir"
  },
  "language_info": {
   "codemirror_mode": "r",
   "file_extension": ".r",
   "mimetype": "text/x-r-source",
   "name": "R",
   "pygments_lexer": "r",
   "version": "3.5.1"
  }
 },
 "nbformat": 4,
 "nbformat_minor": 2
}
