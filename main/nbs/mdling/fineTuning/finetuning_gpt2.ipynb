{
 "cells": [
  {
   "cell_type": "markdown",
   "metadata": {},
   "source": [
    "# Easily export jupyter cells to python module\n",
    "https://github.com/fastai/course-v3/blob/master/nbs/dl2/notebook2script.py"
   ]
  },
  {
   "cell_type": "code",
   "execution_count": 4,
   "metadata": {},
   "outputs": [
    {
     "name": "stdout",
     "output_type": "stream",
     "text": [
      "Converted finetuning_gpt2.ipynb to exp/nb_finetuning.py\r\n"
     ]
    }
   ],
   "source": [
    "! python /tf/src/scripts/notebook2script.py finetuning_gpt2.ipynb"
   ]
  },
  {
   "cell_type": "code",
   "execution_count": null,
   "metadata": {},
   "outputs": [],
   "source": [
    "#export\n",
    "from exp.nb_embedding import generate_embeddings_from_files, generate_embeddings_from_list, generate_embeddings_from_text_files\n",
    "from tensorflow.keras import layers\n",
    "import pickle\n",
    "import matplotlib.pyplot as plt\n",
    "import numpy as np\n",
    "import pandas as pd\n",
    "import tensorflow as tf\n",
    "\n",
    "\n",
    "tf.__version__"
   ]
  },
  {
   "cell_type": "code",
   "execution_count": null,
   "metadata": {},
   "outputs": [],
   "source": [
    "cd /tf/src/data/gpt-2"
   ]
  },
  {
   "cell_type": "markdown",
   "metadata": {},
   "source": [
    "# Read in training data"
   ]
  },
  {
   "cell_type": "code",
   "execution_count": null,
   "metadata": {},
   "outputs": [],
   "source": [
    "df = pd.read_csv(\"/tf/src/data/datasets/security-training.csv\")\n",
    "df.head()\n",
    "# for method in df['code']:\n",
    "#     print(method)"
   ]
  },
  {
   "cell_type": "code",
   "execution_count": null,
   "metadata": {},
   "outputs": [],
   "source": [
    "a = np.asarray(df[\"label\"])\n",
    "unique, counts = np.unique(a, return_counts=True)\n",
    "dict(zip(unique, counts))"
   ]
  },
  {
   "cell_type": "markdown",
   "metadata": {},
   "source": [
    "# Save Features"
   ]
  },
  {
   "cell_type": "code",
   "execution_count": null,
   "metadata": {},
   "outputs": [],
   "source": [
    "features = generate_embeddings_from_files(\n",
    "    \"/tf/src/data/gpt-2/checkpoint/run1\",\n",
    "    \"/tf/src/data/methods/DATA00M_[god-r]/test\",\n",
    "    samples = 100\n",
    ")\n",
    "\n",
    "len(features)"
   ]
  },
  {
   "cell_type": "code",
   "execution_count": null,
   "metadata": {},
   "outputs": [],
   "source": [
    "features = generate_embeddings_from_list(\n",
    "    \"/tf/src/data/gpt-2/checkpoint/run1\",\n",
    "    df['code'],\n",
    "    samples = 1000\n",
    ")\n",
    "\n",
    "len(features)"
   ]
  },
  {
   "cell_type": "code",
   "execution_count": null,
   "metadata": {},
   "outputs": [],
   "source": [
    "features = generate_embeddings_from_text_files(\n",
    "    \"/tf/src/data/gpt-2/checkpoint/run1\",\n",
    "    [\"/tf/src/data/datasets/train/fixed.txt\", \"/tf/src/data/datasets/train/buggy.txt\"],\n",
    "    samples = 1000\n",
    ")\n",
    "\n",
    "len(features)"
   ]
  },
  {
   "cell_type": "code",
   "execution_count": null,
   "metadata": {},
   "outputs": [],
   "source": [
    "with open('/tf/src/data/embeddings/vulnerability_gpt-2.pickle', 'wb') as f:\n",
    "    pickle.dump(features, f, protocol=pickle.HIGHEST_PROTOCOL)"
   ]
  },
  {
   "cell_type": "markdown",
   "metadata": {},
   "source": [
    "# Read and Prepare Features and Labels"
   ]
  },
  {
   "cell_type": "code",
   "execution_count": null,
   "metadata": {},
   "outputs": [],
   "source": [
    "#export\n",
    "def prepare_dataset(pickle_path, MAX_LEN = 1024):\n",
    "    with open(pickle_path, 'rb') as f:\n",
    "            features = pickle.load(f)\n",
    "\n",
    "    features = np.asarray(features)\n",
    "    features = tf.keras.preprocessing.sequence.pad_sequences(features, MAX_LEN)\n",
    "    return features"
   ]
  },
  {
   "cell_type": "code",
   "execution_count": null,
   "metadata": {},
   "outputs": [],
   "source": [
    "MAX_LEN = 1024\n",
    "\n",
    "with open('/tf/src/data/embeddings/vulnerability_gpt-2.pickle', 'rb') as f:\n",
    "            features = pickle.load(f)\n",
    "\n",
    "features = np.asarray(features)\n",
    "features = tf.keras.preprocessing.sequence.pad_sequences(features, MAX_LEN)\n",
    "features.shape"
   ]
  },
  {
   "cell_type": "markdown",
   "metadata": {},
   "source": [
    "## Security vulnerability labels"
   ]
  },
  {
   "cell_type": "code",
   "execution_count": null,
   "metadata": {},
   "outputs": [],
   "source": [
    "y = np.array(df['label'][:1000])\n",
    "y.shape, features.shape"
   ]
  },
  {
   "cell_type": "markdown",
   "metadata": {},
   "source": [
    "## Buggy vs. Non Buggy labels"
   ]
  },
  {
   "cell_type": "code",
   "execution_count": null,
   "metadata": {},
   "outputs": [],
   "source": [
    "a = np.zeros((1000,), dtype=int, order='C')\n",
    "b = np.ones((1000,), dtype=int, order='C')\n",
    "y = np.append(a, b)\n",
    "\n",
    "y.shape, y"
   ]
  },
  {
   "cell_type": "markdown",
   "metadata": {},
   "source": [
    "# Define Model"
   ]
  },
  {
   "cell_type": "code",
   "execution_count": null,
   "metadata": {},
   "outputs": [],
   "source": [
    "#export\n",
    "def get_model(input_shape):\n",
    "    model = tf.keras.Sequential()\n",
    "#     model.add(layers.Flatten(input_shape = input_shape))\n",
    "    model.add(layers.Dropout(0.1))\n",
    "    model.add(layers.Dense(2, activation = \"softmax\"))\n",
    "    \n",
    "    model.compile(\n",
    "        optimizer='adam',\n",
    "        loss='categorical_crossentropy',\n",
    "        metrics=['accuracy']\n",
    "    )\n",
    "    \n",
    "    return model"
   ]
  },
  {
   "cell_type": "code",
   "execution_count": null,
   "metadata": {},
   "outputs": [],
   "source": [
    "#export\n",
    "def get_gru(input_shape):\n",
    "    # 1D convolution with 64 output channels (filters) and five kernel size\n",
    "    model = tf.keras.Sequential()\n",
    "#     model.add(layers.Flatten(input_shape = input_shape))\n",
    "    model.add(layers.Conv1D(64, 5))\n",
    "#     x = Conv1D(64, 5)(embedded_sequences)\n",
    "    # MaxPool divides the length of the sequence by 5\n",
    "    model.add(layers.MaxPooling1D(5))\n",
    "    model.add(layers.Conv1D(64, 5))\n",
    "    model.add(layers.MaxPooling1D(5))\n",
    "    # LSTM layer with a hidden size of 64\n",
    "    model.add(layers.GRU(64))\n",
    "\n",
    "    #Regularization\n",
    "    model.add(layers.Dropout(0.5))\n",
    "    model.add(Dense(2, activation='softmax'))\n",
    "    \n",
    "    model.compile(\n",
    "        optimizer='adam',\n",
    "        loss='categorical_crossentropy',\n",
    "        metrics=['accuracy']\n",
    "    )\n",
    "    \n",
    "    return model"
   ]
  },
  {
   "cell_type": "code",
   "execution_count": null,
   "metadata": {},
   "outputs": [],
   "source": [
    "data_shape = features[0].shape\n",
    "\n",
    "model = tf.keras.Sequential()\n",
    "model.add(layers.Flatten(input_shape = data_shape))\n",
    "model.add(layers.Dense(2, activation = \"softmax\"))\n",
    "model.summary()"
   ]
  },
  {
   "cell_type": "code",
   "execution_count": null,
   "metadata": {},
   "outputs": [],
   "source": [
    "model.compile(optimizer='adam',\n",
    "              loss='sparse_categorical_crossentropy',\n",
    "              metrics=['accuracy']\n",
    "             )"
   ]
  },
  {
   "cell_type": "code",
   "execution_count": null,
   "metadata": {},
   "outputs": [],
   "source": [
    "#export\n",
    "def finetune_model(x, y, val_x, val_y, model, callbacks, class_weight, epochs = 100, bs = 128):\n",
    "    history = model.fit(\n",
    "        x, y,\n",
    "        epochs = epochs,\n",
    "        batch_size = bs,\n",
    "        validation_data = (val_x, val_y),\n",
    "        callbacks = callbacks,\n",
    "        class_weight = class_weight\n",
    "    )\n",
    "    \n",
    "    return history"
   ]
  },
  {
   "cell_type": "code",
   "execution_count": null,
   "metadata": {},
   "outputs": [],
   "source": [
    "#export\n",
    "def evaluate_model(history):\n",
    "    #Evaluation\n",
    "    acc = history['accuracy']\n",
    "    val_acc = history['val_accuracy']\n",
    "    loss = history['loss']\n",
    "    val_loss = history['val_loss']\n",
    "\n",
    "    epochs2 = range(len(acc))\n",
    "\n",
    "    plt.plot(epochs2, acc, 'b', label='Training')\n",
    "    plt.plot(epochs2, val_acc, 'r', label='Validation')\n",
    "    plt.title('Training and validation accuracy')\n",
    "    plt.ylabel('acc')\n",
    "    plt.xlabel('epoch')\n",
    "    plt.legend()\n",
    "\n",
    "    plt.figure()\n",
    "\n",
    "    plt.plot(epochs2, loss, 'b', label='Training')\n",
    "    plt.plot(epochs2, val_loss, 'r', label='Validation')\n",
    "    plt.title('Training and validation loss')\n",
    "    plt.ylabel('loss')\n",
    "    plt.xlabel('epoch')\n",
    "    plt.legend()\n",
    "\n",
    "    plt.show()\n",
    "    "
   ]
  },
  {
   "cell_type": "code",
   "execution_count": null,
   "metadata": {},
   "outputs": [],
   "source": [
    "callbacks = [\n",
    "    tf.keras.callbacks.EarlyStopping(\n",
    "        # Stop training when `val_loss` is no longer improving\n",
    "        monitor='val_loss',\n",
    "        # \"no longer improving\" being defined as \"no better than 1e-2 less\"\n",
    "        min_delta=1e-2,\n",
    "        # \"no longer improving\" being further defined as \"for at least 2 epochs\"\n",
    "        patience=2,\n",
    "        verbose=1\n",
    "    ),\n",
    "    tf.keras.callbacks.ModelCheckpoint(\n",
    "        filepath='/tf/src/data/checkpoints/finetuning_gpt2_{epoch}.h5',\n",
    "        # Path where to save the model\n",
    "        # The two parameters below mean that we will overwrite\n",
    "        # the current checkpoint if and only if\n",
    "        # the `val_loss` score has improved.\n",
    "        save_best_only=True,\n",
    "        monitor='val_loss',\n",
    "        verbose=1\n",
    "    )\n",
    "]"
   ]
  },
  {
   "cell_type": "code",
   "execution_count": null,
   "metadata": {},
   "outputs": [],
   "source": [
    "model = get_model(features[0].shape)\n",
    "finetune_model(features, y, features, y, model, callbacks = callbacks, class_weight = {0: 0.1, 1: 0.9})"
   ]
  },
  {
   "cell_type": "code",
   "execution_count": null,
   "metadata": {
    "scrolled": true
   },
   "outputs": [],
   "source": [
    "EPOCHS = 50\n",
    "BS = 64\n",
    "\n",
    "model.fit(\n",
    "    features, y, epochs = EPOCHS,\n",
    "    batch_size = BS,\n",
    "    validation_data = (features, y),\n",
    "    callbacks = callbacks,\n",
    "    class_weight = {0: 1.0, 1: 1.0}\n",
    ")\n",
    "\n",
    "model.evaluate(features, y)"
   ]
  },
  {
   "cell_type": "code",
   "execution_count": null,
   "metadata": {},
   "outputs": [],
   "source": [
    "model.fit?"
   ]
  },
  {
   "cell_type": "code",
   "execution_count": null,
   "metadata": {},
   "outputs": [],
   "source": []
  }
 ],
 "metadata": {
  "kernelspec": {
   "display_name": "Python 3",
   "language": "python",
   "name": "python3"
  },
  "language_info": {
   "codemirror_mode": {
    "name": "ipython",
    "version": 3
   },
   "file_extension": ".py",
   "mimetype": "text/x-python",
   "name": "python",
   "nbconvert_exporter": "python",
   "pygments_lexer": "ipython3",
   "version": "3.6.8"
  }
 },
 "nbformat": 4,
 "nbformat_minor": 2
}
