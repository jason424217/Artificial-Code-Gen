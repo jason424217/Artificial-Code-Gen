{
 "cells": [
  {
   "cell_type": "markdown",
   "metadata": {},
   "source": [
    "# Easily export jupyter cells to python module\n",
    "https://github.com/fastai/course-v3/blob/master/nbs/dl2/notebook2script.py"
   ]
  },
  {
   "cell_type": "code",
   "execution_count": 3,
   "metadata": {},
   "outputs": [
    {
     "name": "stdout",
     "output_type": "stream",
     "text": [
      "Converted embedding.ipynb to exp/nb_embedding.py\r\n"
     ]
    }
   ],
   "source": [
    "! python /tf/src/scripts/notebook2script.py embedding.ipynb"
   ]
  },
  {
   "cell_type": "code",
   "execution_count": 4,
   "metadata": {},
   "outputs": [
    {
     "data": {
      "text/plain": [
       "'2.0.0-beta1'"
      ]
     },
     "execution_count": 4,
     "metadata": {},
     "output_type": "execute_result"
    }
   ],
   "source": [
    "#export\n",
    "from model import *\n",
    "from encoder import get_encoder\n",
    "import math\n",
    "import tqdm\n",
    "import os\n",
    "import tensorflow as tf\n",
    "import numpy as np\n",
    "\n",
    "tf.__version__"
   ]
  },
  {
   "cell_type": "code",
   "execution_count": 11,
   "metadata": {},
   "outputs": [
    {
     "name": "stdout",
     "output_type": "stream",
     "text": [
      "/tf/src/data/gpt-2\n"
     ]
    }
   ],
   "source": [
    "cd /tf/src/data/gpt-2"
   ]
  },
  {
   "cell_type": "code",
   "execution_count": null,
   "metadata": {
    "scrolled": true
   },
   "outputs": [],
   "source": [
    "! pip3 install -r requirements.txt"
   ]
  },
  {
   "cell_type": "code",
   "execution_count": null,
   "metadata": {},
   "outputs": [],
   "source": [
    "! python3 download_model.py 117M"
   ]
  },
  {
   "cell_type": "code",
   "execution_count": 7,
   "metadata": {},
   "outputs": [],
   "source": [
    "#export\n",
    "def top_k_logits(logits, k):\n",
    "    if k == 0:\n",
    "        # no truncation\n",
    "        return logits\n",
    "\n",
    "    def _top_k():\n",
    "        values, _ = tf.nn.top_k(logits, k=k)\n",
    "        min_values = values[:, -1, tf.newaxis]\n",
    "        return tf.compat.v1.where(\n",
    "            logits < min_values,\n",
    "            tf.ones_like(logits, dtype=logits.dtype) * -1e10,\n",
    "            logits,\n",
    "        )\n",
    "    return tf.cond(\n",
    "       pred=tf.equal(k, 0),\n",
    "       true_fn=lambda: logits,\n",
    "       false_fn=lambda: _top_k(),\n",
    "    )\n",
    "\n",
    "\n",
    "def sample_sequence(*, hparams, length, start_token=None, batch_size=None, context=None, past=None, temperature=1, top_k=0):\n",
    "    if start_token is None:\n",
    "        assert context is not None, 'Specify exactly one of start_token and context!'\n",
    "    else:\n",
    "        assert context is None, 'Specify exactly one of start_token and context!'\n",
    "        context = tf.fill([batch_size, 1], start_token)\n",
    "\n",
    "    def step(hparams, tokens, past=None):\n",
    "        lm_output = model(hparams=hparams, X=tokens, past=past, reuse=tf.compat.v1.AUTO_REUSE)\n",
    "\n",
    "        logits = lm_output['logits'][:, :, :hparams.n_vocab]\n",
    "        presents = lm_output['present']\n",
    "        presents.set_shape(past_shape(hparams=hparams, batch_size=batch_size))\n",
    "        return {\n",
    "            'logits': logits,\n",
    "            'presents': presents,\n",
    "            'hidden_state': lm_output['hidden_state']\n",
    "        }\n",
    "\n",
    "    def body(past, prev, output, embedding):\n",
    "        next_outputs = step(hparams, prev, past=past)\n",
    "        logits = next_outputs['logits'][:, -1, :]  / tf.cast(temperature, dtype=tf.float32)\n",
    "        logits = top_k_logits(logits, k=top_k)\n",
    "        samples = tf.random.categorical(logits=logits, num_samples=1, dtype=tf.int32)\n",
    "        return [\n",
    "            next_outputs['presents'] if past is None else tf.concat([past, next_outputs['presents']], axis=-2),\n",
    "            samples,\n",
    "            tf.concat([output, samples], axis=1),\n",
    "            next_outputs['hidden_state']\n",
    "        ]\n",
    "\n",
    "    past, prev, output, h = body(past, context, context, context)\n",
    "\n",
    "    def cond(*args):\n",
    "        return True\n",
    "\n",
    "    return output, h"
   ]
  },
  {
   "cell_type": "code",
   "execution_count": 8,
   "metadata": {},
   "outputs": [],
   "source": [
    "#export\n",
    "class Embedder:\n",
    "    def __init__(self, chkpt_path, chunk_size):\n",
    "        tf.compat.v1.disable_eager_execution()\n",
    "        self.g = tf.Graph()\n",
    "        with self.g.as_default():\n",
    "            self.context = tf.compat.v1.placeholder(tf.int32, [1, None])\n",
    "\n",
    "        self.sess = tf.compat.v1.Session(graph=self.g)\n",
    "    \n",
    "        self.MAX_CHUNK = chunk_size\n",
    "        self.enc = get_encoder(\"117M\", \"models\")\n",
    "        hparams = default_hparams()\n",
    "        with self.g.as_default():\n",
    "            self.output, self.hidden_state = sample_sequence(\n",
    "                hparams=hparams, length=None,\n",
    "                context=self.context,\n",
    "                past=None,\n",
    "                batch_size=1,\n",
    "                temperature=1, top_k=1\n",
    "            )\n",
    "        \n",
    "        if chkpt_path is not None:\n",
    "            self.restore(chkpt_path)\n",
    "            \n",
    "    def restore(self, chkpt_path):\n",
    "        with self.g.as_default():\n",
    "            saver = tf.compat.v1.train.Saver()\n",
    "            chkpt = tf.train.latest_checkpoint(chkpt_path)\n",
    "            saver.restore(self.sess, chkpt)\n",
    "        \n",
    "    def __call__(self, method):\n",
    "        with self.g.as_default():\n",
    "            enc_meth = np.asarray(self.enc.encode(method))[None, :]\n",
    "            context_tokens = tf.keras.preprocessing.sequence.pad_sequences(enc_meth, self.MAX_CHUNK, dtype='int64', padding='pre', value = 50256)\n",
    "            context_tokens = np.squeeze(context_tokens)\n",
    "            \n",
    "            _, h = self.sess.run([self.output, self.hidden_state], feed_dict={\n",
    "                self.context: [context_tokens]\n",
    "            }, options = tf.compat.v1.RunOptions(report_tensor_allocations_upon_oom = True))\n",
    "                        \n",
    "#             for tok in enc_meth[self.MAX_CHUNK:]:\n",
    "#                 context_tokens.append(tok)\n",
    "#                 context_tokens.pop(0)\n",
    "                \n",
    "#                 _, h_ = self.sess.run([self.output, self.hidden_state], feed_dict={\n",
    "#                     self.context: [context_tokens]\n",
    "#                 }, options = tf.compat.v1.RunOptions(report_tensor_allocations_upon_oom = True))\n",
    "#                 h = np.append(h, h_[None, :, -1], axis = 1)\n",
    "\n",
    "            return np.squeeze(h)"
   ]
  },
  {
   "cell_type": "code",
   "execution_count": null,
   "metadata": {},
   "outputs": [],
   "source": [
    "a = np.array([[[1, 2, 3], [1, 2, 3]]])\n",
    "b = np.array([[[1, 2, 4], [4, 5, 6]]])\n",
    "# b = b[None, :, -1]\n",
    "# b[None, :, -1].shape\n",
    "# b.shape\n",
    "a = np.append(a, b[None, :, -1], axis = 1)\n",
    "a"
   ]
  },
  {
   "cell_type": "code",
   "execution_count": 14,
   "metadata": {},
   "outputs": [],
   "source": [
    "#export\n",
    "def generate_embeddings_from_files(chkpt_path, ds_path, samples = None, MAX_CHUNK = 1024):\n",
    "    embd = Embedder(chkpt_path, MAX_CHUNK)\n",
    "    features = []\n",
    "    for i, fname in enumerate(tqdm.tqdm(os.listdir(ds_path))):\n",
    "        if samples is not None:\n",
    "            if i >= samples: break\n",
    "        \n",
    "        with open(os.path.join(ds_path, fname)) as f:\n",
    "            method = f.read()\n",
    "            features.append(embd(method)) #np.sum(embd(method), axis = 0)\n",
    "            \n",
    "    return features"
   ]
  },
  {
   "cell_type": "code",
   "execution_count": null,
   "metadata": {},
   "outputs": [],
   "source": [
    "#export\n",
    "def generate_embeddings_from_list(chkpt_path, methods, out_path, samples = None, MAX_CHUNK = 1024):\n",
    "    embd = Embedder(chkpt_path, MAX_CHUNK)\n",
    "#     shape = (len(methods), MAX_CHUNK, 768)\n",
    "#     if samples is not None:\n",
    "#         shape = (samples, MAX_CHUNK, 768)\n",
    "    \n",
    "    features = [] # np.memmap(out_path, dtype='float32', mode='w+', shape = shape)\n",
    "    for i, method in enumerate(tqdm.tqdm(methods)):\n",
    "        if samples is not None:\n",
    "            if i >= samples: break\n",
    "                \n",
    "        features.append(embd(method))\n",
    "#         np.squeeze(\n",
    "#             tf.keras.preprocessing.sequence.pad_sequences(embd(method), MAX_CHUNK, dtype='float32', padding='post')\n",
    "#         )\n",
    "            \n",
    "    return features"
   ]
  },
  {
   "cell_type": "code",
   "execution_count": null,
   "metadata": {},
   "outputs": [],
   "source": [
    "#export\n",
    "# Generates embeddings from multiple text files where each method\n",
    "# is on a different line in each file\n",
    "def generate_embeddings_from_text_files(chkpt_path, files, out_path, samples = None, MAX_CHUNK = 1024):\n",
    "    embd = Embedder(chkpt_path, MAX_CHUNK)\n",
    "#     shape = (len(methods), MAX_CHUNK, 768)\n",
    "#     if samples is not None:\n",
    "#         shape = (samples, MAX_CHUNK, 768)\n",
    "    \n",
    "    features = [] #np.memmap(out_path, dtype='float32', mode='w+', shape = shape)\n",
    "    for _, file in enumerate(files):\n",
    "        with open(file) as f:\n",
    "            for i, method in enumerate(tqdm.tqdm(f.readlines())):\n",
    "                if samples is not None:\n",
    "                    if i >= samples: break\n",
    "                        \n",
    "                features.append(embd(method))\n",
    "#                 np.squeeze(\n",
    "#                     tf.keras.preprocessing.sequence.pad_sequences(embd(method), MAX_CHUNK, dtype='float32', padding='post')\n",
    "#                 )\n",
    "            \n",
    "    return features"
   ]
  },
  {
   "cell_type": "code",
   "execution_count": 15,
   "metadata": {},
   "outputs": [
    {
     "name": "stderr",
     "output_type": "stream",
     "text": [
      "  0%|          | 10/121596 [00:02<8:58:52,  3.76it/s]\n"
     ]
    },
    {
     "data": {
      "text/plain": [
       "10"
      ]
     },
     "execution_count": 15,
     "metadata": {},
     "output_type": "execute_result"
    }
   ],
   "source": [
    "features = generate_embeddings(\"/tf/src/data/gpt-2/checkpoint/run1\",\n",
    "                               \"/tf/src/data/methods/DATA00M_[god-r]/test\",\n",
    "                               samples = 10\n",
    "                              )\n",
    "\n",
    "len(features)"
   ]
  },
  {
   "cell_type": "code",
   "execution_count": null,
   "metadata": {
    "scrolled": true
   },
   "outputs": [],
   "source": [
    "embd = Embedder(\"/tf/src/data/gpt-2/checkpoint/run1\", 1024)\n",
    "path = \"/tf/src/data/methods/DATA00M_[god-r]/test\"\n",
    "\n",
    "features = {}\n",
    "for i, fname in enumerate(tqdm.tqdm(os.listdir(path))):\n",
    "#     if i => 10000: break\n",
    "    with open(os.path.join(path, fname)) as f:\n",
    "        method = f.read()\n",
    "        features[method] = embd(method)\n",
    "        print(f\"Feature {i} dims:\", features[method].shape)"
   ]
  },
  {
   "cell_type": "code",
   "execution_count": null,
   "metadata": {},
   "outputs": [],
   "source": [
    "# API look\n",
    "def cross_entropy(ds, chkpt_path, MAX_CHUNK = 1024, bs = 1):\n",
    "    # Generate permutations (TODO)\n",
    "    \n",
    "    \n",
    "    with tf.compat.v1.Session(graph=tf.Graph()) as sess:\n",
    "        context = tf.compat.v1.placeholder(tf.int32, [bs, None])\n",
    "        # Generate predictions of model\n",
    "        output  = model(hparams=default_hparams(), X=context)\n",
    "        # Calculate cross entropy using tf library\n",
    "        loss1    = tf.reduce_mean(\n",
    "            input_tensor = tf.nn.sparse_softmax_cross_entropy_with_logits(\n",
    "                labels = context[:, 1:], logits = output['logits'][:, :-1]\n",
    "            )\n",
    "        )\n",
    "        loss2    = tf.nn.sparse_softmax_cross_entropy_with_logits(\n",
    "            labels = context[:, 1:], logits = output['logits'][:, :-1]\n",
    "        )\n",
    "        \n",
    "        # Load model\n",
    "        saver = tf.compat.v1.train.Saver()\n",
    "        ckpt = tf.train.latest_checkpoint(chkpt_path)\n",
    "        saver.restore(sess, ckpt)\n",
    "    \n",
    "        # For each method:\n",
    "        entropy = []\n",
    "        for method in tqdm.tqdm(ds):\n",
    "            enc_meth    = enc.encode(method)\n",
    "            \n",
    "            context_tokens = enc_meth[:MAX_CHUNK]\n",
    "            val = sess.run(loss1, feed_dict={context: [context_tokens]})\n",
    "            if not math.isnan(val):\n",
    "                entropy.append(val)\n",
    "#             for i in range(len(enc_meth) % MAX_CHUNK):\n",
    "#                 context_tokens = enc_meth[MAX_CHUNK * i:MAX_CHUNK * (i + 1)]\n",
    "#                 print(len(tok))\n",
    "            for tok in enc_meth[MAX_CHUNK:]:\n",
    "                context_tokens.append(tok)\n",
    "                context_tokens.pop(0)\n",
    "    \n",
    "#                 # Need to recalculate this because this is not correct way (I think)\n",
    "                val = sess.run(loss2, feed_dict={context: [context_tokens]})\n",
    "                if not math.isnan(val[:, -1]):\n",
    "                    entropy.append(val[:, -1])\n",
    "        \n",
    "        return entropy"
   ]
  }
 ],
 "metadata": {
  "kernelspec": {
   "display_name": "Python 3",
   "language": "python",
   "name": "python3"
  },
  "language_info": {
   "codemirror_mode": {
    "name": "ipython",
    "version": 3
   },
   "file_extension": ".py",
   "mimetype": "text/x-python",
   "name": "python",
   "nbconvert_exporter": "python",
   "pygments_lexer": "ipython3",
   "version": "3.6.8"
  }
 },
 "nbformat": 4,
 "nbformat_minor": 2
}
