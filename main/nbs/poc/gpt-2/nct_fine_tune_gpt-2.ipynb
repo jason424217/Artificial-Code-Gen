{
 "cells": [
  {
   "cell_type": "markdown",
   "metadata": {
    "colab_type": "text",
    "id": "iLXW02eIYpcB"
   },
   "source": [
    "clone and cd into repo, nshepperd's fork https://github.com/nshepperd/gpt-2"
   ]
  },
  {
   "cell_type": "code",
   "execution_count": 1,
   "metadata": {},
   "outputs": [
    {
     "name": "stdout",
     "output_type": "stream",
     "text": [
      "Requirement already satisfied: tensorflow-gpu==1.13.1 in /usr/local/lib/python3.6/dist-packages (1.13.1)\n",
      "Requirement already satisfied: numpy>=1.13.3 in /usr/local/lib/python3.6/dist-packages (from tensorflow-gpu==1.13.1) (1.16.4)\n",
      "Requirement already satisfied: wheel>=0.26 in /usr/lib/python3/dist-packages (from tensorflow-gpu==1.13.1) (0.30.0)\n",
      "Requirement already satisfied: keras-preprocessing>=1.0.5 in /usr/local/lib/python3.6/dist-packages (from tensorflow-gpu==1.13.1) (1.1.0)\n",
      "Requirement already satisfied: protobuf>=3.6.1 in /usr/local/lib/python3.6/dist-packages (from tensorflow-gpu==1.13.1) (3.8.0)\n",
      "Requirement already satisfied: gast>=0.2.0 in /usr/local/lib/python3.6/dist-packages (from tensorflow-gpu==1.13.1) (0.2.2)\n",
      "Requirement already satisfied: tensorflow-estimator<1.14.0rc0,>=1.13.0 in /usr/local/lib/python3.6/dist-packages (from tensorflow-gpu==1.13.1) (1.13.0)\n",
      "Requirement already satisfied: termcolor>=1.1.0 in /usr/local/lib/python3.6/dist-packages (from tensorflow-gpu==1.13.1) (1.1.0)\n",
      "Requirement already satisfied: six>=1.10.0 in /usr/lib/python3/dist-packages (from tensorflow-gpu==1.13.1) (1.11.0)\n",
      "Requirement already satisfied: keras-applications>=1.0.6 in /usr/local/lib/python3.6/dist-packages (from tensorflow-gpu==1.13.1) (1.0.8)\n",
      "Requirement already satisfied: grpcio>=1.8.6 in /usr/local/lib/python3.6/dist-packages (from tensorflow-gpu==1.13.1) (1.21.1)\n",
      "Requirement already satisfied: tensorboard<1.14.0,>=1.13.0 in /usr/local/lib/python3.6/dist-packages (from tensorflow-gpu==1.13.1) (1.13.1)\n",
      "Requirement already satisfied: astor>=0.6.0 in /usr/local/lib/python3.6/dist-packages (from tensorflow-gpu==1.13.1) (0.8.0)\n",
      "Requirement already satisfied: absl-py>=0.1.6 in /usr/local/lib/python3.6/dist-packages (from tensorflow-gpu==1.13.1) (0.7.1)\n",
      "Requirement already satisfied: setuptools in /usr/local/lib/python3.6/dist-packages (from protobuf>=3.6.1->tensorflow-gpu==1.13.1) (41.0.1)\n",
      "Requirement already satisfied: mock>=2.0.0 in /usr/local/lib/python3.6/dist-packages (from tensorflow-estimator<1.14.0rc0,>=1.13.0->tensorflow-gpu==1.13.1) (3.0.5)\n",
      "Requirement already satisfied: h5py in /usr/local/lib/python3.6/dist-packages (from keras-applications>=1.0.6->tensorflow-gpu==1.13.1) (2.9.0)\n",
      "Requirement already satisfied: markdown>=2.6.8 in /usr/local/lib/python3.6/dist-packages (from tensorboard<1.14.0,>=1.13.0->tensorflow-gpu==1.13.1) (3.1.1)\n",
      "Requirement already satisfied: werkzeug>=0.11.15 in /usr/local/lib/python3.6/dist-packages (from tensorboard<1.14.0,>=1.13.0->tensorflow-gpu==1.13.1) (0.15.4)\n"
     ]
    }
   ],
   "source": [
    "!pip install tensorflow-gpu==1.13.1"
   ]
  },
  {
   "cell_type": "code",
   "execution_count": 2,
   "metadata": {},
   "outputs": [
    {
     "ename": "ImportError",
     "evalue": "Traceback (most recent call last):\n  File \"/usr/local/lib/python3.6/dist-packages/tensorflow/python/pywrap_tensorflow.py\", line 58, in <module>\n    from tensorflow.python.pywrap_tensorflow_internal import *\n  File \"/usr/local/lib/python3.6/dist-packages/tensorflow/python/pywrap_tensorflow_internal.py\", line 28, in <module>\n    _pywrap_tensorflow_internal = swig_import_helper()\n  File \"/usr/local/lib/python3.6/dist-packages/tensorflow/python/pywrap_tensorflow_internal.py\", line 24, in swig_import_helper\n    _mod = imp.load_module('_pywrap_tensorflow_internal', fp, pathname, description)\n  File \"/usr/lib/python3.6/imp.py\", line 243, in load_module\n    return load_dynamic(name, filename, file)\n  File \"/usr/lib/python3.6/imp.py\", line 343, in load_dynamic\n    return _load(spec)\nImportError: libcuda.so.1: cannot open shared object file: No such file or directory\n\n\nFailed to load the native TensorFlow runtime.\n\nSee https://www.tensorflow.org/install/errors\n\nfor some common reasons and solutions.  Include the entire stack trace\nabove this error message when asking for help.",
     "output_type": "error",
     "traceback": [
      "\u001b[0;31m---------------------------------------------------------------------------\u001b[0m",
      "\u001b[0;31mImportError\u001b[0m                               Traceback (most recent call last)",
      "\u001b[0;32m/usr/local/lib/python3.6/dist-packages/tensorflow/python/pywrap_tensorflow.py\u001b[0m in \u001b[0;36m<module>\u001b[0;34m\u001b[0m\n\u001b[1;32m     57\u001b[0m \u001b[0;34m\u001b[0m\u001b[0m\n\u001b[0;32m---> 58\u001b[0;31m   \u001b[0;32mfrom\u001b[0m \u001b[0mtensorflow\u001b[0m\u001b[0;34m.\u001b[0m\u001b[0mpython\u001b[0m\u001b[0;34m.\u001b[0m\u001b[0mpywrap_tensorflow_internal\u001b[0m \u001b[0;32mimport\u001b[0m \u001b[0;34m*\u001b[0m\u001b[0;34m\u001b[0m\u001b[0;34m\u001b[0m\u001b[0m\n\u001b[0m\u001b[1;32m     59\u001b[0m   \u001b[0;32mfrom\u001b[0m \u001b[0mtensorflow\u001b[0m\u001b[0;34m.\u001b[0m\u001b[0mpython\u001b[0m\u001b[0;34m.\u001b[0m\u001b[0mpywrap_tensorflow_internal\u001b[0m \u001b[0;32mimport\u001b[0m \u001b[0m__version__\u001b[0m\u001b[0;34m\u001b[0m\u001b[0;34m\u001b[0m\u001b[0m\n",
      "\u001b[0;32m/usr/local/lib/python3.6/dist-packages/tensorflow/python/pywrap_tensorflow_internal.py\u001b[0m in \u001b[0;36m<module>\u001b[0;34m\u001b[0m\n\u001b[1;32m     27\u001b[0m             \u001b[0;32mreturn\u001b[0m \u001b[0m_mod\u001b[0m\u001b[0;34m\u001b[0m\u001b[0;34m\u001b[0m\u001b[0m\n\u001b[0;32m---> 28\u001b[0;31m     \u001b[0m_pywrap_tensorflow_internal\u001b[0m \u001b[0;34m=\u001b[0m \u001b[0mswig_import_helper\u001b[0m\u001b[0;34m(\u001b[0m\u001b[0;34m)\u001b[0m\u001b[0;34m\u001b[0m\u001b[0;34m\u001b[0m\u001b[0m\n\u001b[0m\u001b[1;32m     29\u001b[0m     \u001b[0;32mdel\u001b[0m \u001b[0mswig_import_helper\u001b[0m\u001b[0;34m\u001b[0m\u001b[0;34m\u001b[0m\u001b[0m\n",
      "\u001b[0;32m/usr/local/lib/python3.6/dist-packages/tensorflow/python/pywrap_tensorflow_internal.py\u001b[0m in \u001b[0;36mswig_import_helper\u001b[0;34m()\u001b[0m\n\u001b[1;32m     23\u001b[0m             \u001b[0;32mtry\u001b[0m\u001b[0;34m:\u001b[0m\u001b[0;34m\u001b[0m\u001b[0;34m\u001b[0m\u001b[0m\n\u001b[0;32m---> 24\u001b[0;31m                 \u001b[0m_mod\u001b[0m \u001b[0;34m=\u001b[0m \u001b[0mimp\u001b[0m\u001b[0;34m.\u001b[0m\u001b[0mload_module\u001b[0m\u001b[0;34m(\u001b[0m\u001b[0;34m'_pywrap_tensorflow_internal'\u001b[0m\u001b[0;34m,\u001b[0m \u001b[0mfp\u001b[0m\u001b[0;34m,\u001b[0m \u001b[0mpathname\u001b[0m\u001b[0;34m,\u001b[0m \u001b[0mdescription\u001b[0m\u001b[0;34m)\u001b[0m\u001b[0;34m\u001b[0m\u001b[0;34m\u001b[0m\u001b[0m\n\u001b[0m\u001b[1;32m     25\u001b[0m             \u001b[0;32mfinally\u001b[0m\u001b[0;34m:\u001b[0m\u001b[0;34m\u001b[0m\u001b[0;34m\u001b[0m\u001b[0m\n",
      "\u001b[0;32m/usr/lib/python3.6/imp.py\u001b[0m in \u001b[0;36mload_module\u001b[0;34m(name, file, filename, details)\u001b[0m\n\u001b[1;32m    242\u001b[0m         \u001b[0;32melse\u001b[0m\u001b[0;34m:\u001b[0m\u001b[0;34m\u001b[0m\u001b[0;34m\u001b[0m\u001b[0m\n\u001b[0;32m--> 243\u001b[0;31m             \u001b[0;32mreturn\u001b[0m \u001b[0mload_dynamic\u001b[0m\u001b[0;34m(\u001b[0m\u001b[0mname\u001b[0m\u001b[0;34m,\u001b[0m \u001b[0mfilename\u001b[0m\u001b[0;34m,\u001b[0m \u001b[0mfile\u001b[0m\u001b[0;34m)\u001b[0m\u001b[0;34m\u001b[0m\u001b[0;34m\u001b[0m\u001b[0m\n\u001b[0m\u001b[1;32m    244\u001b[0m     \u001b[0;32melif\u001b[0m \u001b[0mtype_\u001b[0m \u001b[0;34m==\u001b[0m \u001b[0mPKG_DIRECTORY\u001b[0m\u001b[0;34m:\u001b[0m\u001b[0;34m\u001b[0m\u001b[0;34m\u001b[0m\u001b[0m\n",
      "\u001b[0;32m/usr/lib/python3.6/imp.py\u001b[0m in \u001b[0;36mload_dynamic\u001b[0;34m(name, path, file)\u001b[0m\n\u001b[1;32m    342\u001b[0m             name=name, loader=loader, origin=path)\n\u001b[0;32m--> 343\u001b[0;31m         \u001b[0;32mreturn\u001b[0m \u001b[0m_load\u001b[0m\u001b[0;34m(\u001b[0m\u001b[0mspec\u001b[0m\u001b[0;34m)\u001b[0m\u001b[0;34m\u001b[0m\u001b[0;34m\u001b[0m\u001b[0m\n\u001b[0m\u001b[1;32m    344\u001b[0m \u001b[0;34m\u001b[0m\u001b[0m\n",
      "\u001b[0;31mImportError\u001b[0m: libcuda.so.1: cannot open shared object file: No such file or directory",
      "\nDuring handling of the above exception, another exception occurred:\n",
      "\u001b[0;31mImportError\u001b[0m                               Traceback (most recent call last)",
      "\u001b[0;32m<ipython-input-2-4ae80da9abf6>\u001b[0m in \u001b[0;36m<module>\u001b[0;34m\u001b[0m\n\u001b[0;32m----> 1\u001b[0;31m \u001b[0;32mimport\u001b[0m \u001b[0mtensorflow\u001b[0m \u001b[0;32mas\u001b[0m \u001b[0mtf\u001b[0m\u001b[0;34m\u001b[0m\u001b[0;34m\u001b[0m\u001b[0m\n\u001b[0m\u001b[1;32m      2\u001b[0m \u001b[0mtf\u001b[0m\u001b[0;34m.\u001b[0m\u001b[0m__version__\u001b[0m\u001b[0;34m\u001b[0m\u001b[0;34m\u001b[0m\u001b[0m\n",
      "\u001b[0;32m/usr/local/lib/python3.6/dist-packages/tensorflow/__init__.py\u001b[0m in \u001b[0;36m<module>\u001b[0;34m\u001b[0m\n\u001b[1;32m     22\u001b[0m \u001b[0;34m\u001b[0m\u001b[0m\n\u001b[1;32m     23\u001b[0m \u001b[0;31m# pylint: disable=g-bad-import-order\u001b[0m\u001b[0;34m\u001b[0m\u001b[0;34m\u001b[0m\u001b[0;34m\u001b[0m\u001b[0m\n\u001b[0;32m---> 24\u001b[0;31m \u001b[0;32mfrom\u001b[0m \u001b[0mtensorflow\u001b[0m\u001b[0;34m.\u001b[0m\u001b[0mpython\u001b[0m \u001b[0;32mimport\u001b[0m \u001b[0mpywrap_tensorflow\u001b[0m  \u001b[0;31m# pylint: disable=unused-import\u001b[0m\u001b[0;34m\u001b[0m\u001b[0;34m\u001b[0m\u001b[0m\n\u001b[0m\u001b[1;32m     25\u001b[0m \u001b[0;34m\u001b[0m\u001b[0m\n\u001b[1;32m     26\u001b[0m \u001b[0;32mfrom\u001b[0m \u001b[0mtensorflow\u001b[0m\u001b[0;34m.\u001b[0m\u001b[0m_api\u001b[0m\u001b[0;34m.\u001b[0m\u001b[0mv1\u001b[0m \u001b[0;32mimport\u001b[0m \u001b[0mapp\u001b[0m\u001b[0;34m\u001b[0m\u001b[0;34m\u001b[0m\u001b[0m\n",
      "\u001b[0;32m/usr/local/lib/python3.6/dist-packages/tensorflow/python/__init__.py\u001b[0m in \u001b[0;36m<module>\u001b[0;34m\u001b[0m\n\u001b[1;32m     47\u001b[0m \u001b[0;32mimport\u001b[0m \u001b[0mnumpy\u001b[0m \u001b[0;32mas\u001b[0m \u001b[0mnp\u001b[0m\u001b[0;34m\u001b[0m\u001b[0;34m\u001b[0m\u001b[0m\n\u001b[1;32m     48\u001b[0m \u001b[0;34m\u001b[0m\u001b[0m\n\u001b[0;32m---> 49\u001b[0;31m \u001b[0;32mfrom\u001b[0m \u001b[0mtensorflow\u001b[0m\u001b[0;34m.\u001b[0m\u001b[0mpython\u001b[0m \u001b[0;32mimport\u001b[0m \u001b[0mpywrap_tensorflow\u001b[0m\u001b[0;34m\u001b[0m\u001b[0;34m\u001b[0m\u001b[0m\n\u001b[0m\u001b[1;32m     50\u001b[0m \u001b[0;34m\u001b[0m\u001b[0m\n\u001b[1;32m     51\u001b[0m \u001b[0;31m# Protocol buffers\u001b[0m\u001b[0;34m\u001b[0m\u001b[0;34m\u001b[0m\u001b[0;34m\u001b[0m\u001b[0m\n",
      "\u001b[0;32m/usr/local/lib/python3.6/dist-packages/tensorflow/python/pywrap_tensorflow.py\u001b[0m in \u001b[0;36m<module>\u001b[0;34m\u001b[0m\n\u001b[1;32m     72\u001b[0m \u001b[0;32mfor\u001b[0m \u001b[0msome\u001b[0m \u001b[0mcommon\u001b[0m \u001b[0mreasons\u001b[0m \u001b[0;32mand\u001b[0m \u001b[0msolutions\u001b[0m\u001b[0;34m.\u001b[0m  \u001b[0mInclude\u001b[0m \u001b[0mthe\u001b[0m \u001b[0mentire\u001b[0m \u001b[0mstack\u001b[0m \u001b[0mtrace\u001b[0m\u001b[0;34m\u001b[0m\u001b[0;34m\u001b[0m\u001b[0m\n\u001b[1;32m     73\u001b[0m above this error message when asking for help.\"\"\" % traceback.format_exc()\n\u001b[0;32m---> 74\u001b[0;31m   \u001b[0;32mraise\u001b[0m \u001b[0mImportError\u001b[0m\u001b[0;34m(\u001b[0m\u001b[0mmsg\u001b[0m\u001b[0;34m)\u001b[0m\u001b[0;34m\u001b[0m\u001b[0;34m\u001b[0m\u001b[0m\n\u001b[0m\u001b[1;32m     75\u001b[0m \u001b[0;34m\u001b[0m\u001b[0m\n\u001b[1;32m     76\u001b[0m \u001b[0;31m# pylint: enable=wildcard-import,g-import-not-at-top,unused-import,line-too-long\u001b[0m\u001b[0;34m\u001b[0m\u001b[0;34m\u001b[0m\u001b[0;34m\u001b[0m\u001b[0m\n",
      "\u001b[0;31mImportError\u001b[0m: Traceback (most recent call last):\n  File \"/usr/local/lib/python3.6/dist-packages/tensorflow/python/pywrap_tensorflow.py\", line 58, in <module>\n    from tensorflow.python.pywrap_tensorflow_internal import *\n  File \"/usr/local/lib/python3.6/dist-packages/tensorflow/python/pywrap_tensorflow_internal.py\", line 28, in <module>\n    _pywrap_tensorflow_internal = swig_import_helper()\n  File \"/usr/local/lib/python3.6/dist-packages/tensorflow/python/pywrap_tensorflow_internal.py\", line 24, in swig_import_helper\n    _mod = imp.load_module('_pywrap_tensorflow_internal', fp, pathname, description)\n  File \"/usr/lib/python3.6/imp.py\", line 243, in load_module\n    return load_dynamic(name, filename, file)\n  File \"/usr/lib/python3.6/imp.py\", line 343, in load_dynamic\n    return _load(spec)\nImportError: libcuda.so.1: cannot open shared object file: No such file or directory\n\n\nFailed to load the native TensorFlow runtime.\n\nSee https://www.tensorflow.org/install/errors\n\nfor some common reasons and solutions.  Include the entire stack trace\nabove this error message when asking for help."
     ]
    }
   ],
   "source": [
    "import tensorflow as tf\n",
    "tf.__version__"
   ]
  },
  {
   "cell_type": "code",
   "execution_count": 3,
   "metadata": {
    "colab": {
     "base_uri": "https://localhost:8080/",
     "height": 136
    },
    "colab_type": "code",
    "executionInfo": {
     "elapsed": 2753,
     "status": "ok",
     "timestamp": 1559179823276,
     "user": {
      "displayName": "Nathan Cooper",
      "photoUrl": "",
      "userId": "15284233239426922637"
     },
     "user_tz": 240
    },
    "id": "ICYu3w9hIJkC",
    "outputId": "2087d87c-0b0e-4e06-dd32-2ca79e13330f"
   },
   "outputs": [
    {
     "name": "stdout",
     "output_type": "stream",
     "text": [
      "Cloning into './nct_data/gpt-2'...\n",
      "remote: Enumerating objects: 301, done.\u001b[K\n",
      "remote: Total 301 (delta 0), reused 0 (delta 0), pack-reused 301\u001b[K\n",
      "Receiving objects: 100% (301/301), 4.40 MiB | 13.16 MiB/s, done.\n",
      "Resolving deltas: 100% (165/165), done.\n"
     ]
    }
   ],
   "source": [
    "!git clone https://github.com/ncoop57/gpt-2.git ./nct_data/gpt-2"
   ]
  },
  {
   "cell_type": "code",
   "execution_count": 4,
   "metadata": {
    "colab": {
     "base_uri": "https://localhost:8080/",
     "height": 34
    },
    "colab_type": "code",
    "executionInfo": {
     "elapsed": 269,
     "status": "ok",
     "timestamp": 1559179823520,
     "user": {
      "displayName": "Nathan Cooper",
      "photoUrl": "",
      "userId": "15284233239426922637"
     },
     "user_tz": 240
    },
    "id": "6eEIs3ApZUVO",
    "outputId": "3440ede5-4fa8-4d64-c54e-6ccc9446add4"
   },
   "outputs": [
    {
     "name": "stdout",
     "output_type": "stream",
     "text": [
      "/tf/prototypes/gpt-2/nct_data/gpt-2\n"
     ]
    }
   ],
   "source": [
    "cd nct_data/gpt-2"
   ]
  },
  {
   "cell_type": "markdown",
   "metadata": {
    "colab_type": "text",
    "id": "Qtn1qZPgZLb0"
   },
   "source": [
    "Install requirements"
   ]
  },
  {
   "cell_type": "code",
   "execution_count": 5,
   "metadata": {
    "colab": {
     "base_uri": "https://localhost:8080/",
     "height": 187
    },
    "colab_type": "code",
    "executionInfo": {
     "elapsed": 4257,
     "status": "ok",
     "timestamp": 1559084518006,
     "user": {
      "displayName": "Nathan Cooper",
      "photoUrl": "",
      "userId": "15284233239426922637"
     },
     "user_tz": 240
    },
    "id": "434oOx0bZH6J",
    "outputId": "978bac50-18f1-4d92-e266-2d02a95e25c9"
   },
   "outputs": [
    {
     "name": "stdout",
     "output_type": "stream",
     "text": [
      "Collecting fire>=0.1.3 (from -r requirements.txt (line 1))\n",
      "  Downloading https://files.pythonhosted.org/packages/5a/b7/205702f348aab198baecd1d8344a90748cb68f53bdcd1cc30cbc08e47d3e/fire-0.1.3.tar.gz\n",
      "Collecting regex==2017.4.5 (from -r requirements.txt (line 2))\n",
      "\u001b[?25l  Downloading https://files.pythonhosted.org/packages/36/62/c0c0d762ffd4ffaf39f372eb8561b8d491a11ace5a7884610424a8b40f95/regex-2017.04.05.tar.gz (601kB)\n",
      "\u001b[K     |████████████████████████████████| 604kB 4.5MB/s eta 0:00:01\n",
      "\u001b[?25hCollecting requests==2.21.0 (from -r requirements.txt (line 3))\n",
      "\u001b[?25l  Downloading https://files.pythonhosted.org/packages/7d/e3/20f3d364d6c8e5d2353c72a67778eb189176f08e873c9900e10c0287b84b/requests-2.21.0-py2.py3-none-any.whl (57kB)\n",
      "\u001b[K     |████████████████████████████████| 61kB 41.5MB/s eta 0:00:01\n",
      "\u001b[?25hCollecting tqdm==4.31.1 (from -r requirements.txt (line 4))\n",
      "\u001b[?25l  Downloading https://files.pythonhosted.org/packages/6c/4b/c38b5144cf167c4f52288517436ccafefe9dc01b8d1c190e18a6b154cd4a/tqdm-4.31.1-py2.py3-none-any.whl (48kB)\n",
      "\u001b[K     |████████████████████████████████| 51kB 28.1MB/s eta 0:00:01\n",
      "\u001b[?25hCollecting toposort==1.5 (from -r requirements.txt (line 5))\n",
      "  Downloading https://files.pythonhosted.org/packages/e9/8a/321cd8ea5f4a22a06e3ba30ef31ec33bea11a3443eeb1d89807640ee6ed4/toposort-1.5-py2.py3-none-any.whl\n",
      "Requirement already satisfied: six in /usr/lib/python3/dist-packages (from fire>=0.1.3->-r requirements.txt (line 1)) (1.11.0)\n",
      "Requirement already satisfied: idna<2.9,>=2.5 in /usr/lib/python3/dist-packages (from requests==2.21.0->-r requirements.txt (line 3)) (2.6)\n",
      "Collecting chardet<3.1.0,>=3.0.2 (from requests==2.21.0->-r requirements.txt (line 3))\n",
      "\u001b[?25l  Downloading https://files.pythonhosted.org/packages/bc/a9/01ffebfb562e4274b6487b4bb1ddec7ca55ec7510b22e4c51f14098443b8/chardet-3.0.4-py2.py3-none-any.whl (133kB)\n",
      "\u001b[K     |████████████████████████████████| 143kB 19.6MB/s eta 0:00:01\n",
      "\u001b[?25hCollecting certifi>=2017.4.17 (from requests==2.21.0->-r requirements.txt (line 3))\n",
      "\u001b[?25l  Downloading https://files.pythonhosted.org/packages/60/75/f692a584e85b7eaba0e03827b3d51f45f571c2e793dd731e598828d380aa/certifi-2019.3.9-py2.py3-none-any.whl (158kB)\n",
      "\u001b[K     |████████████████████████████████| 163kB 14.0MB/s eta 0:00:01\n",
      "\u001b[?25hCollecting urllib3<1.25,>=1.21.1 (from requests==2.21.0->-r requirements.txt (line 3))\n",
      "\u001b[?25l  Downloading https://files.pythonhosted.org/packages/01/11/525b02e4acc0c747de8b6ccdab376331597c569c42ea66ab0a1dbd36eca2/urllib3-1.24.3-py2.py3-none-any.whl (118kB)\n",
      "\u001b[K     |████████████████████████████████| 122kB 616kB/s eta 0:00:01\n",
      "\u001b[?25hBuilding wheels for collected packages: fire, regex\n",
      "  Building wheel for fire (setup.py) ... \u001b[?25ldone\n",
      "\u001b[?25h  Stored in directory: /root/.cache/pip/wheels/2a/1a/4d/6b30377c3051e76559d1185c1dbbfff15aed31f87acdd14c22\n",
      "  Building wheel for regex (setup.py) ... \u001b[?25ldone\n",
      "\u001b[?25h  Stored in directory: /root/.cache/pip/wheels/75/07/38/3c16b529d50cb4e0cd3dbc7b75cece8a09c132692c74450b01\n",
      "Successfully built fire regex\n",
      "Installing collected packages: fire, regex, chardet, certifi, urllib3, requests, tqdm, toposort\n",
      "Successfully installed certifi-2019.3.9 chardet-3.0.4 fire-0.1.3 regex-2017.4.5 requests-2.21.0 toposort-1.5 tqdm-4.31.1 urllib3-1.24.3\n"
     ]
    }
   ],
   "source": [
    "!pip install -r requirements.txt"
   ]
  },
  {
   "cell_type": "markdown",
   "metadata": {
    "colab_type": "text",
    "id": "o1hrgeKFYsuE"
   },
   "source": [
    "Download the model data"
   ]
  },
  {
   "cell_type": "code",
   "execution_count": 6,
   "metadata": {
    "colab": {
     "base_uri": "https://localhost:8080/",
     "height": 136
    },
    "colab_type": "code",
    "executionInfo": {
     "elapsed": 25190,
     "status": "ok",
     "timestamp": 1559179853688,
     "user": {
      "displayName": "Nathan Cooper",
      "photoUrl": "",
      "userId": "15284233239426922637"
     },
     "user_tz": 240
    },
    "id": "5UDpEGjfO8Q2",
    "outputId": "73851f02-2db7-48f6-d99e-6ed034c1e0b0"
   },
   "outputs": [
    {
     "name": "stdout",
     "output_type": "stream",
     "text": [
      "Fetching checkpoint: 1.00kit [00:00, 442kit/s]                                                      \n",
      "Fetching encoder.json: 1.04Mit [00:00, 8.93Mit/s]                                                   \n",
      "Fetching hparams.json: 1.00kit [00:00, 370kit/s]                                                    \n",
      "Fetching model.ckpt.data-00000-of-00001: 1.42Git [01:41, 14.0Mit/s]                                 \n",
      "Fetching model.ckpt.index: 11.0kit [00:00, 4.32Mit/s]                                               \n",
      "Fetching model.ckpt.meta: 927kit [00:00, 8.84Mit/s]                                                 \n",
      "Fetching vocab.bpe: 457kit [00:00, 6.43Mit/s]                                                       \n"
     ]
    }
   ],
   "source": [
    "!python download_model.py 345M"
   ]
  },
  {
   "cell_type": "markdown",
   "metadata": {
    "colab_type": "text",
    "id": "Zq-YwRnNOBYO"
   },
   "source": [
    "encoding"
   ]
  },
  {
   "cell_type": "code",
   "execution_count": 7,
   "metadata": {
    "colab": {},
    "colab_type": "code",
    "id": "7oJPQtdLbbeK"
   },
   "outputs": [],
   "source": [
    "!export PYTHONIOENCODING=UTF-8"
   ]
  },
  {
   "cell_type": "code",
   "execution_count": 8,
   "metadata": {},
   "outputs": [
    {
     "name": "stdout",
     "output_type": "stream",
     "text": [
      "Reading package lists... Done\n",
      "Building dependency tree       \n",
      "Reading state information... Done\n",
      "wget is already the newest version (1.19.4-1ubuntu2.2).\n",
      "0 upgraded, 0 newly installed, 0 to remove and 9 not upgraded.\n"
     ]
    }
   ],
   "source": [
    "!apt install wget -y"
   ]
  },
  {
   "cell_type": "markdown",
   "metadata": {
    "colab_type": "text",
    "id": "0p--9zwqQRTc"
   },
   "source": [
    "\n",
    "Let's get our train on! In this case the file is A Tale of Two Cities (Charles Dickens) from Project Gutenberg. To change the dataset GPT-2 models will fine-tune on, change this URL to another .txt file, and change corresponding part of the next cell. Note that you can use small datasets if you want but you will have to be sure not to run the fine-tuning for too long or you will overfit badly. Roughly, expect interesting results within minutes to hours in the 1-10s of megabyte ballpark, and below this you may want to stop the run early as fine-tuning can be very fast."
   ]
  },
  {
   "cell_type": "code",
   "execution_count": 9,
   "metadata": {
    "colab": {
     "base_uri": "https://localhost:8080/",
     "height": 204
    },
    "colab_type": "code",
    "executionInfo": {
     "elapsed": 172427,
     "status": "ok",
     "timestamp": 1559056398480,
     "user": {
      "displayName": "Nathan Cooper",
      "photoUrl": "",
      "userId": "15284233239426922637"
     },
     "user_tz": 240
    },
    "id": "QOCvrs-DHvxa",
    "outputId": "4cd80ef2-2ed0-4f55-89e5-0791ab23a726"
   },
   "outputs": [
    {
     "name": "stdout",
     "output_type": "stream",
     "text": [
      "--2019-06-12 19:29:58--  https://raw.githubusercontent.com/micheletufano/NeuralCodeTranslator/master/dataset/bug-fixes/medium/train/fixed.txt\n",
      "Resolving raw.githubusercontent.com (raw.githubusercontent.com)... 151.101.20.133\n",
      "Connecting to raw.githubusercontent.com (raw.githubusercontent.com)|151.101.20.133|:443... connected.\n",
      "HTTP request sent, awaiting response... 200 OK\n",
      "Length: 15798070 (15M) [text/plain]\n",
      "Saving to: ‘fixed.txt’\n",
      "\n",
      "fixed.txt           100%[===================>]  15.07M  13.5MB/s    in 1.1s    \n",
      "\n",
      "2019-06-12 19:29:59 (13.5 MB/s) - ‘fixed.txt’ saved [15798070/15798070]\n",
      "\n",
      "--2019-06-12 19:29:59--  http://methods.txt/\n",
      "Resolving methods.txt (methods.txt)... failed: Name or service not known.\n",
      "wget: unable to resolve host address ‘methods.txt’\n",
      "FINISHED --2019-06-12 19:29:59--\n",
      "Total wall clock time: 1.6s\n",
      "Downloaded: 1 files, 15M in 1.1s (13.5 MB/s)\n"
     ]
    }
   ],
   "source": [
    "!wget https://raw.githubusercontent.com/micheletufano/NeuralCodeTranslator/master/dataset/bug-fixes/medium/train/fixed.txt"
   ]
  },
  {
   "cell_type": "code",
   "execution_count": 10,
   "metadata": {
    "colab": {},
    "colab_type": "code",
    "id": "jJObRkjwO2fQ"
   },
   "outputs": [
    {
     "name": "stdout",
     "output_type": "stream",
     "text": [
      "CONTRIBUTORS.md  LICENSE\t    fixed.txt\t      train-horovod.py\r\n",
      "DEVELOPERS.md\t README.md\t    models\t      train.py\r\n",
      "Dockerfile.cpu\t download_model.py  requirements.txt\r\n",
      "Dockerfile.gpu\t encode.py\t    src\r\n"
     ]
    }
   ],
   "source": [
    "!ls"
   ]
  },
  {
   "cell_type": "code",
   "execution_count": 16,
   "metadata": {},
   "outputs": [
    {
     "name": "stdout",
     "output_type": "stream",
     "text": [
      "INFO line 13:8: Renamed 'tf.GraphKeys' to 'tf.compat.v1.GraphKeys'\n",
      "INFO line 89:26: Renamed 'tf.get_collection' to 'tf.compat.v1.get_collection'\n",
      "INFO line 336:7: `name` passed to `name_scope`. Because you may be re-entering an existing scope, it is not safe to convert automatically,  the v2 name_scope does not support re-entering scopes by name.\n",
      "\n",
      "INFO line 336:7: Renamed 'tf.name_scope' to 'tf.compat.v1.name_scope'\n",
      "INFO line 339:6: Renamed 'tf.get_default_graph' to 'tf.compat.v1.get_default_graph'\n",
      "TensorFlow 2.0 Upgrade Script\n",
      "-----------------------------\n",
      "Converted 1 files\n",
      "Detected 0 issues that require attention\n",
      "--------------------------------------------------------------------------------\n",
      "\n",
      "\n",
      "Make sure to read the detailed log 'report.txt'\n",
      "\n"
     ]
    }
   ],
   "source": [
    "!tf_upgrade_v2 --infile ./src/memory_saving_gradients.py --outfile ./src/memory_saving_gradients.py"
   ]
  },
  {
   "cell_type": "code",
   "execution_count": 11,
   "metadata": {
    "colab": {
     "base_uri": "https://localhost:8080/",
     "height": 34
    },
    "colab_type": "code",
    "executionInfo": {
     "elapsed": 4143,
     "status": "ok",
     "timestamp": 1559078862534,
     "user": {
      "displayName": "Nathan Cooper",
      "photoUrl": "",
      "userId": "15284233239426922637"
     },
     "user_tz": 240
    },
    "id": "RfP7MFOxL6Ze",
    "outputId": "4bc26adf-75c5-4920-8b9e-7ff7df553dec"
   },
   "outputs": [
    {
     "name": "stdout",
     "output_type": "stream",
     "text": [
      "Requirement already satisfied: toposort in /usr/local/lib/python3.6/dist-packages (1.5)\r\n"
     ]
    }
   ],
   "source": [
    "!pip install toposort"
   ]
  },
  {
   "cell_type": "markdown",
   "metadata": {
    "colab_type": "text",
    "id": "yPfJ5b3CQXqr"
   },
   "source": [
    "\n",
    "Start training, add --model_name '345M' to use 345 model"
   ]
  },
  {
   "cell_type": "code",
   "execution_count": 17,
   "metadata": {
    "colab": {
     "base_uri": "https://localhost:8080/",
     "height": 93996
    },
    "colab_type": "code",
    "executionInfo": {
     "elapsed": 1540240,
     "status": "ok",
     "timestamp": 1559092407520,
     "user": {
      "displayName": "Nathan Cooper",
      "photoUrl": "",
      "userId": "15284233239426922637"
     },
     "user_tz": 240
    },
    "id": "pEn_ihcGI00T",
    "outputId": "2e663d39-12d0-43c8-a571-52c7c41b76cc"
   },
   "outputs": [
    {
     "name": "stdout",
     "output_type": "stream",
     "text": [
      "Traceback (most recent call last):\r\n",
      "  File \"./train.py\", line 17, in <module>\r\n",
      "    import memory_saving_gradients\r\n",
      "  File \"/tf/prototypes/gpt-2/nct_data/gpt-2/src/memory_saving_gradients.py\", line 5, in <module>\r\n",
      "    import tensorflow.contrib.graph_editor as ge\r\n",
      "ModuleNotFoundError: No module named 'tensorflow.contrib'\r\n"
     ]
    }
   ],
   "source": [
    "!PYTHONPATH=src ./train.py --dataset ./fixed.txt --model_name '345M'"
   ]
  },
  {
   "cell_type": "markdown",
   "metadata": {
    "colab_type": "text",
    "id": "vS1RJJDFOPnb"
   },
   "source": [
    "Save our checkpoints to start training again later"
   ]
  },
  {
   "cell_type": "code",
   "execution_count": 0,
   "metadata": {
    "colab": {
     "base_uri": "https://localhost:8080/",
     "height": 34
    },
    "colab_type": "code",
    "executionInfo": {
     "elapsed": 2328,
     "status": "ok",
     "timestamp": 1559092458087,
     "user": {
      "displayName": "Nathan Cooper",
      "photoUrl": "",
      "userId": "15284233239426922637"
     },
     "user_tz": 240
    },
    "id": "JretqG1zOXdi",
    "outputId": "17ccb4c5-cfa0-4b8d-fa71-439787dc1ba5"
   },
   "outputs": [
    {
     "name": "stdout",
     "output_type": "stream",
     "text": [
      "cp: cannot create directory '/content/drive/My Drive/': No such file or directory\n"
     ]
    }
   ],
   "source": [
    "!cp -r /content/gpt-2/checkpoint/ /content/drive/My\\ Drive/"
   ]
  },
  {
   "cell_type": "markdown",
   "metadata": {
    "colab_type": "text",
    "id": "6D-i7vERWbNS"
   },
   "source": [
    "Load your trained model for use in sampling below (117M or 345M)"
   ]
  },
  {
   "cell_type": "code",
   "execution_count": 0,
   "metadata": {
    "colab": {},
    "colab_type": "code",
    "id": "VeETvWvrbKga"
   },
   "outputs": [],
   "source": [
    "!cp -r /content/gpt-2/checkpoint/run1/* /content/gpt-2/models/117M/"
   ]
  },
  {
   "cell_type": "code",
   "execution_count": 0,
   "metadata": {
    "colab": {},
    "colab_type": "code",
    "id": "np0r6qfXBeUX"
   },
   "outputs": [],
   "source": [
    "!cp -r /content/gpt-2/checkpoint/run1/* /content/gpt-2/models/345M/"
   ]
  },
  {
   "cell_type": "markdown",
   "metadata": {
    "colab_type": "text",
    "id": "GmnSrXqtfRbq"
   },
   "source": [
    "Generate conditional samples from the model given a prompt you provide -  change top-k hyperparameter if desired (default is 40),  if you're using 345M, add \"--model-name 345M\""
   ]
  },
  {
   "cell_type": "code",
   "execution_count": 0,
   "metadata": {
    "colab": {
     "base_uri": "https://localhost:8080/",
     "height": 7500
    },
    "colab_type": "code",
    "executionInfo": {
     "elapsed": 1045982,
     "status": "ok",
     "timestamp": 1559093703237,
     "user": {
      "displayName": "Nathan Cooper",
      "photoUrl": "",
      "userId": "15284233239426922637"
     },
     "user_tz": 240
    },
    "id": "utJj-iY4gHwE",
    "outputId": "b43f4461-040a-4281-9cce-218663bc6ef4"
   },
   "outputs": [
    {
     "name": "stdout",
     "output_type": "stream",
     "text": [
      "2019-05-29 01:17:42.237182: I tensorflow/core/platform/profile_utils/cpu_utils.cc:94] CPU Frequency: 2200000000 Hz\n",
      "2019-05-29 01:17:42.237511: I tensorflow/compiler/xla/service/service.cc:150] XLA service 0x33f0680 executing computations on platform Host. Devices:\n",
      "2019-05-29 01:17:42.237554: I tensorflow/compiler/xla/service/service.cc:158]   StreamExecutor device (0): <undefined>, <undefined>\n",
      "2019-05-29 01:17:42.432852: I tensorflow/stream_executor/cuda/cuda_gpu_executor.cc:998] successful NUMA node read from SysFS had negative value (-1), but there must be at least one NUMA node, so returning NUMA node zero\n",
      "2019-05-29 01:17:42.433377: I tensorflow/compiler/xla/service/service.cc:150] XLA service 0x33effa0 executing computations on platform CUDA. Devices:\n",
      "2019-05-29 01:17:42.433421: I tensorflow/compiler/xla/service/service.cc:158]   StreamExecutor device (0): Tesla T4, Compute Capability 7.5\n",
      "2019-05-29 01:17:42.433828: I tensorflow/core/common_runtime/gpu/gpu_device.cc:1433] Found device 0 with properties: \n",
      "name: Tesla T4 major: 7 minor: 5 memoryClockRate(GHz): 1.59\n",
      "pciBusID: 0000:00:04.0\n",
      "totalMemory: 14.73GiB freeMemory: 14.60GiB\n",
      "2019-05-29 01:17:42.433856: I tensorflow/core/common_runtime/gpu/gpu_device.cc:1512] Adding visible gpu devices: 0\n",
      "2019-05-29 01:17:42.907987: I tensorflow/core/common_runtime/gpu/gpu_device.cc:984] Device interconnect StreamExecutor with strength 1 edge matrix:\n",
      "2019-05-29 01:17:42.908054: I tensorflow/core/common_runtime/gpu/gpu_device.cc:990]      0 \n",
      "2019-05-29 01:17:42.908066: I tensorflow/core/common_runtime/gpu/gpu_device.cc:1003] 0:   N \n",
      "2019-05-29 01:17:42.908317: W tensorflow/core/common_runtime/gpu/gpu_bfc_allocator.cc:42] Overriding allow_growth setting because the TF_FORCE_GPU_ALLOW_GROWTH environment variable is set. Original config value was 0.\n",
      "2019-05-29 01:17:42.908361: I tensorflow/core/common_runtime/gpu/gpu_device.cc:1115] Created TensorFlow device (/job:localhost/replica:0/task:0/device:GPU:0 with 14115 MB memory) -> physical GPU (device: 0, name: Tesla T4, pci bus id: 0000:00:04.0, compute capability: 7.5)\n",
      "WARNING:tensorflow:From /usr/local/lib/python3.6/dist-packages/tensorflow/python/framework/op_def_library.py:263: colocate_with (from tensorflow.python.framework.ops) is deprecated and will be removed in a future version.\n",
      "Instructions for updating:\n",
      "Colocations handled automatically by placer.\n",
      "WARNING:tensorflow:From /content/gpt-2/src/sample.py:65: to_float (from tensorflow.python.ops.math_ops) is deprecated and will be removed in a future version.\n",
      "Instructions for updating:\n",
      "Use tf.cast instead.\n",
      "WARNING:tensorflow:From /content/gpt-2/src/sample.py:70: multinomial (from tensorflow.python.ops.random_ops) is deprecated and will be removed in a future version.\n",
      "Instructions for updating:\n",
      "Use tf.random.categorical instead.\n",
      "WARNING:tensorflow:From /usr/local/lib/python3.6/dist-packages/tensorflow/python/training/saver.py:1266: checkpoint_exists (from tensorflow.python.training.checkpoint_management) is deprecated and will be removed in a future version.\n",
      "Instructions for updating:\n",
      "Use standard file APIs to check for files with this prefix.\n",
      "Model prompt >>> /**\n",
      "2019-05-29 01:18:41.333115: I tensorflow/stream_executor/dso_loader.cc:152] successfully opened CUDA library libcublas.so.10.0 locally\n",
      "======================================== SAMPLE 1 ========================================\n",
      " * A map from one of the input strings to the corresponding key/value pairs. \n",
      " * @param string a key/value pair.\n",
      " * @param keyValue a string value.\n",
      " * @inheritDoc\n",
      " * @see org.apache.tapestry5.util.ListEntry#containsKey(org.jooq.annotations.List)\n",
      " * @since 1.1.0\n",
      " */\n",
      "public static final class ListEntry<B> implements Entry<String> {\n",
      "\n",
      "\tprivate final Map<String, String> keyValue;\n",
      "\n",
      "\tprivate final List<B> keyList;\n",
      "\n",
      "\tprivate final String[] key;\n",
      "\n",
      "\t/**\n",
      "\t * The key values.  If the key values do not match, null will be returned.\n",
      "\t * If all the key values are null, an empty set will be returned.\n",
      "\t */\n",
      "\tpublic final List<B> getKeyValue(final String[] key) throws KeyException {\n",
      "\t\tif (keyValue == null) {\n",
      "\t\t\treturn null;\n",
      "\t�}\n",
      "\n",
      "\t\tlistValues = new ArrayList<B>();\n",
      "\t\tfor (final String value : valueString.toLowerCase()) {\n",
      "\t\t\tlistValues.addAll(entryValues);\n",
      "\t\t}\n",
      "\n",
      "\t\t/*\n",
      "\t\t * The value.  If the key value does not match the value from the\n",
      "\t\t * KeyEntryEntry.\n",
      "\t\t * If all the value values are null, an empty set will be returned.\n",
      "\t\t */\n",
      "\t\tfinal Object value = entryValues.iterator();\n",
      "\t\tif (value instanceof String) {\n",
      "\t\t\tnullValue = value;\n",
      "\t\t\tvalue = entryValues.nextObject();\n",
      "\t\t\tif (value instanceof StringArray) {\n",
      "\t\t\t\tvalue = entryValues.nextLong();\n",
      "\t\t\t\tresult.remove(value);\n",
      "\t\t\t\tvalue = entryValues.nextByteArray();\n",
      "\t\t\t\tresult.remove(value);\n",
      "\t\t\t\tsetValue(value, value.toURI());\n",
      "\t\t\t}\n",
      "\t\t\tvalues.addObject(value);\n",
      "\t\t\tnewValue = entryValues.nextObject();\n",
      "\t\t\tif (newValue instanceof StringArray) {\n",
      "\t\t\t\tvalue = newValue;\n",
      "\t\t\t}\n",
      "\t\t\tnewValue\n",
      "================================================================================\n",
      "Model prompt >>> /* This method setup an HTTP connection\n",
      "======================================== SAMPLE 1 ========================================\n",
      ", the use of this method is recommended to prevent a race condition.\n",
      "//  // JSR-347: [RFC5223:SOCK]\n",
      "//  //  * The \"http\" method returns the address, not the protocol number.\n",
      "//  //  *\n",
      "//  // If the \"http\" method returns \"http://\" because it is used to retrieve information about a file or directory,\n",
      "//   // you should use a <tt>http://\" </tt> alternative instead.\n",
      "// \n",
      "//  /** The 'http.'\n",
      "//   * Return the http address for the connection. This is the address of the\n",
      "//   * http server. For example the HTTP:// address returned by the 'http'\n",
      "//   * method returns \"http://127.0.0.1:3000\". This parameter should\n",
      "//   * not be used to query the http server for a specific port number.\n",
      "//   */\n",
      "//  /** Return the <tt>protocol</tt>\n",
      "//   * Return the protocol number for the file or directory and the protocol\n",
      "//   * version number for the transport.\n",
      "//   * For example the HTTP:///path/to/file/ returns \"1.2.3.4.5\". A\n",
      "//   * <tt><tt>protocol</tt></tt> in a URL can be\n",
      "//   * represented by\n",
      "//   * the string \"<tt>http://127.0.0.1/path/>\".\n",
      "//   * If the protocol parameter has the specified value, return this\n",
      "//   * value, not <tt>protocol</tt> if it has been used to retrieve the\n",
      "//   * protocol. If the protocol parameter is not specified when using the\n",
      "//   * <tt>http://</tt> method, all of the information returned in response to the request is returned in the HTTP response. The method <tt>http://</tt> returns that information only when the method <tt>http://</tt> returns information. When using this method the method <tt>http://</tt> returns information in the HTTP response that will be returned. When using this method the method <tt>http:///usr/share/doc/spring-junit4/spring-junit4-core/java/util/regex/regex.re\n",
      "================================================================================\n",
      "Model prompt >>> /* This method takes in an ArrayList and sorts it\n",
      "======================================== SAMPLE 1 ========================================\n",
      " using the default order of the List items\n",
      " * rather than using the most recently\n",
      " * appended first.  That is, because the item can't have the same order in the\n",
      " * array, the item is not appended to first, but it is appended to\n",
      " * a list of previously appended items. \n",
      " * If the user specifies items they can sort in the default order, they must\n",
      " * specify the following sort operation:\n",
      " */\n",
      "public static final int DEFAULT_SORT_OPTION; /* The default is to sort items in the\n",
      " * same order that the List items are appended, so item can't be\n",
      " * appended to the list first or second. Also, to allow users to sort in the\n",
      " * default order, they need to specify items in this order first, so the\n",
      " * order of an appended list of items in this array is the same\n",
      " * as an ordered list of items in the List array. */\n",
      "public static final int DEFAULT; /* The default is the list order.  This defaults\n",
      " * to the order of items which are most recently appended to the\n",
      " * ArrayList.  (Note that the order can be changed by the user if they want to\n",
      " * create an ordered list.)  If the user specifies items, they need to specify\n",
      " * the following sort operation:\n",
      " */\n",
      "public static final int EXTENT_SORT_OPTION; /* A greater or equal integer\n",
      " * value, indicating sorting in the most recent order.\n",
      " */\n",
      "public static final int EXTENT; /* This is the last sorted array item, which\n",
      " * has the most recently appended items appended to it.\n",
      " */\n",
      "public static final int ENTTYPES = ArrayList.fromIterator(M_BAR_EMPTY_ROWS);\n",
      "}\n",
      "<|endoftext|>package gmp.gmp.common.extract.xmldata;\n",
      "\n",
      "import java.util.concurrent.atomic.AtomicInteger;\n",
      "\n",
      "import gmp.gmp.common.extract.Extractor;\n",
      "\n",
      "public class Cursor {\n",
      "\n",
      "virtual void clear();\n",
      "\n",
      "\n",
      "virtual void add(final AtomicInteger item);\n",
      "\n",
      "\n",
      "virtual void clear();\n",
      "\n",
      "\n",
      "virtual void set(final AtomicInteger nextItem);\n",
      "\n",
      "\n",
      "virtual void set(final AtomicInteger lastItem);\n",
      "\n",
      "\n",
      "virtual void clear(); // this\n",
      "\n",
      "virtual void increment();\n",
      "\n",
      "\n",
      "protected static final long serial\n",
      "================================================================================\n",
      "Model prompt >>> public class Bob\n",
      "======================================== SAMPLE 1 ========================================\n",
      " is User(boolean is_owner) {\n",
      "\n",
      "\t\tprivate User owner;\n",
      "\n",
      "\t\tpublic Bob getOwner() {\n",
      "\n",
      "\t\t\treturn owner;\n",
      "\t\t}\n",
      "\n",
      "\t\tpublic boolean isOwner() {\n",
      "\t\t\treturn owner;\n",
      "\t\t}\n",
      "\t}\n",
      "\n",
      "\tpublic void initialize(Boelectric bob) {\n",
      "\t\towner = ((boolean)bob instanceof User)) ? userManager .get(owner) : null;\n",
      "\n",
      "\t\tthis.owner = owner;\n",
      "\n",
      "\t}\n",
      "\n",
      "\tpublic void removeOwner() {\n",
      "\t\towner = null;\n",
      "\t}\n",
      "\n",
      "\tpublic boolean getOwner() {\n",
      "\t\treturn owner;\n",
      "\t}\n",
      "\n",
      "\tpublic boolean isOwner() {\n",
      "\t\treturn owner;\n",
      "\t}\n",
      "\t\n",
      "\tpublic class Bob is User(boolean is_owner) {\n",
      "\n",
      "\t\tprivate User owner;\n",
      "\n",
      "\t\tpublic Bob getOwner() {\n",
      "\t\t\treturn owner;\n",
      "\t\t}\n",
      "\t}\n",
      "\tpublic void initialize() {\n",
      "\t\towner = (boolean)bob instanceof User);\n",
      "\t\townerManager.put(Bob, owner);\n",
      "\t\tuserManager.get(Bob, ownerManager.get(OwnerManager.class));\n",
      "\t\townerManager.remove(OwnerManager.class);\n",
      "\t\townerManager.set(OwnerManager.class,OwnerManager.class);\n",
      "\t\tbob = new OwnerManager();\n",
      "\t\tbobManager.add(Bob, ownerManager.get(0));\n",
      "\t\tbobManager.remove(OwnerManager.class);\n",
      "\t\townerManager.get(1).add(Bob);\n",
      "\t\townerManager.get(8).remove(OwnerManager.class);\n",
      "\t\townerManager.get(30).add(Bob);\n",
      "\t\tthis.owner = ownerManager.get(ownerManager.get(OwnerManager.class));\n",
      "\t\townerManager.get(31).add(Bob);\n",
      "\t\treturn ownerManager.get(ownerManager.get(1));\n",
      "\t}\n",
      "\tpublic void destroy() {\n",
      "\t\tOwnerManager.destroyOwner(ownerManager,OwnerManager.class);\n",
      "\t\tOwnerManager.getOwnerManager().removeOwner(ownerManager,OwnerManager.class);\n",
      "\t\townerManager.getOwnerManager().removeOwner(ownerManager,OwnerManager.class);\n",
      "\t\townerManager.get\n",
      "================================================================================\n",
      "Model prompt >>> import com.java.Sky\n",
      "======================================== SAMPLE 1 ========================================\n",
      "pe.SkypeMessageDialog.DialogItem);\n",
      "\n",
      "     /** An error message when an invalid number is requested. This message is shown when the client has selected another user. */\n",
      "    private void setUser(MessageDialogItem user) {\n",
      "         user.setErrorMessage(MessageDialogItem.ERROR);\n",
      "    }\n",
      "\n",
      "    private void setProgressBar(ProgressBar pb) {\n",
      "         pb.setProgressBar(pb.getMainFrame().getProgressBar());\n",
      "    }\n",
      "\n",
      "    private void setMessageDialogItem(com.java.Skype.SkypeMessageDialog messages,\n",
      "                MessageDialogItem messageDialog) {\n",
      "         this.messageDialog = messages;\n",
      "    }\n",
      "\n",
      "    private void setProgressBar(ProgressBar progressBar) {\n",
      "         progressBar.setProgressBar(progressBar.getMainFrame().getProgressBar());\n",
      "    }\n",
      "\n",
      "    private void setMessageDialogItem(com.java.Skype.SkypeMessageDialog dialog,\n",
      "               MessageDialogItem messageDialogTo, MessageDialogItem message) {\n",
      "         dialog.setProgressBar(messageDialogTo.checkProgressBar());\n",
      "    }\n",
      "}\n",
      "<|endoftext|>package com.java.Skype.SkypeMessageDialog;\n",
      "\n",
      "import java.util.*;\n",
      "\n",
      "public class ErrorMessage extends MessageDialog {\n",
      "\n",
      "public ErrorMessage(com.java.Skype.SkypeMessageDialog dialog) {\n",
      "         msg = Dialog.createMessageDialog(dialog);\n",
      "        msg.setError(MessageDialogItem.ERROR);\n",
      "    }\n",
      "\n",
      "    private void setErrorMessage(ErrorMessage msg) {\n",
      "        msg.setError(MessageDialogItem.ERROR);\n",
      "    }\n",
      "\n",
      "    private void setProgressBar(ProgressBar progressBar) {\n",
      "        progressBar.setProgressBar(progressBar.getMainFrame().getProgressBar());\n",
      " \n",
      "================================================================================\n",
      "Model prompt >>> import java.Bob.Henry\n",
      "======================================== SAMPLE 1 ========================================\n",
      "\n",
      "\t.*;\n",
      "\t/*\n",
      "quickShip * @author Michael T. Hager - @junit\n",
      "\t */\n",
      "\tpublic class Bob {\n",
      "\t\t/**\n",
      "\t\t * Initialize the field\n",
      "\t\t * @param fieldName\n",
      "\t\t */\n",
      "\t\tBob(Field(FieldName.BIGFOOT))\n",
      "\t\t{\n",
      "\t\t\tthis.fieldName = fieldName;}\n",
      "\t\tBob(Field(T.BIGFOOT))\n",
      "\t\t{\n",
      "\t\t\tthis.fieldName = fieldName;}\n",
      "\t\tBag.addFieldWithField(this, fieldName, new Bob());\n",
      "\t\treturn (this.fieldName);\n",
      "\t}\n",
      "\t\n",
      "\tfinal void unset(String fieldName) {\n",
      "\t\tthis.fieldName = fieldName;}\n",
      "\n",
      "\tfinal void set(String fieldName, String value) {\n",
      "\t\tthis.fieldName = fieldName;\n",
      "\t\tthis.fieldName = value;\n",
      "\t\tthis.fieldName = value;\n",
      "\t\treturn;\n",
      "\t}\n",
      "\n",
      "\t@Override\n",
      "\tpublic boolean equals(Object o0, Object o1) {\n",
      "\t\treturn o0 == o1 ? (o0 == o1) : ((o0 == o1) ? o1.getClass() : (o0 == null));\n",
      "\t}\n",
      "\n",
      "\t@Override\n",
      "\tpublic Object hashCode() {\n",
      "\t\tfor (int i = 0; i < fields.size(); i++) {\n",
      "\t\t\tobject valueObj0 = fields.get(i);\n",
      "\t\t\tobject valueObj1 = fields.get(i);\n",
      "\t\t\tif (valueObj0 instanceof BigField) {\n",
      "\t\t\t\tBigField valueObj01 = fields.get(i);\n",
      "\t\t\t\tif (valueObj1 instanceof BigField) {\n",
      "\t\t\t\t\tT.BIGFOOT valueObj1 = fields.get(i);\n",
      "\t\t\t\t\tBag.saveField(valueObj0, valueObj1);\n",
      "\t\t\t\t\treturn valueObj1 = valueObj01;\n",
      "\t\t\t\t\tvalueObj0 = fields.get(i);\n",
      "\t\t\t\t\tvalueObj1 = fields.get(i);\n",
      "\t\t\t\t\tvalueObj0 = fields.get(i);\n",
      "\t\t\t\t\tvalueObj1\n",
      "================================================================================\n",
      "Model prompt >>> In the night, you heard the sounds of\n",
      "======================================== SAMPLE 1 ========================================\n",
      " the night.\"\n",
      "\n",
      "Hudson, J. R., & Williams, D. S. (1993). On the auditory perception of spectral frequencies. American Journal of Psychiatry, 151, 621-623.\n",
      "Hudson, J. R., & Williamson, C. V. (1993). On the auditory perception of spectral frequencies. American Journal of Psychiatry, 151, 623-626.\n",
      "Hudson, J. R., & Williamson, C. V. (1995). On the auditory perception of spectral frequencies. American Journal of Psychiatry, 154, 626-626.\n",
      "Hudson, J. R., & Williamson, C. V. (1995). On the auditory perception of spectral frequencies. American Journal of Psychiatry, 154, 627-627.\n",
      "Hudson, J. R., & Williamson, C. V. (1997a). On the auditory perception of spectral frequencies. American Journal of Psychiatry, 156, 628-628.\n",
      "Hudson, J. R., & Williamson, C. V. (1997b). On the auditory perception of spectral frequencies. American Journal of Psychiatry, 156, 629-635.\n",
      "Hudson, J. R., & Williamson, C. V. (1998). On the auditory perception of spectral frequencies. American Journal of Psychiatry, 160, 636-637.\n",
      "Hudson, J. R., & Williamson, C. V. (1998a). On the auditory perception of spectral frequencies. American Journal of Psychiatry, 160, 638-642.\n",
      "Hudson, J. R., & Williamson, C. V. (1998b). On the auditory perception of spectral frequencies. American Journal of Psychiatry, 160, 643-645.\n",
      "Hudson, J. R., & Williamson, C. V. (1999). On the auditory perception of spectral frequencies. American Journal of Psychiatry, 166, 646-647.\n",
      "Hudson, J. R., & Williamson, C. V. (1999). On the auditory perception of spectral frequencies. American Journal of Psychiatry, 166, 648-650.\n",
      "Hudson, M. B., & Williamson, U. M. (1999). On the auditory perception of spectral frequencies. American Journal of Psychiatry, 169, 651-661.\n",
      "Hudson, J. R., & Williamson, C. V. (1999a). On the auditory perception of spectral frequencies. American Journal of Psychiatry, 169,\n",
      "================================================================================\n",
      "Model prompt >>> You heard a noise come from the basement. You knew there was only one thing that could be down there, but it was dead, no way it could be making sounds. The door to the basement slammed open and in the doorway appeared\n",
      "======================================== SAMPLE 1 ========================================\n",
      " an extremely ugly looking woman. She was obviously pregnant and had a huge ugly belly. She had green eyes and had a large nose. She also had a large bulge in her belly and two large blue eyes were shining brightly. She had long gray hair hanging out her back, just barely covering her breasts.\"\n",
      "*\n",
      "*Note that in the source code, the words \"pregnant\"? were added as such. \n",
      "*\n",
      "* This is my first time writing a game. \n",
      "* \n",
      "* I really hope to be good in it. \n",
      "*\n",
      "* The game is called \"Pregnancy\" and \n",
      "* The characters are called \"The Mother\" and \"The Baby\".\n",
      "*\n",
      "* The characters are all named after \n",
      "* the female members of The Church of Satan.\n",
      "*\n",
      "* I really really need your help.\n",
      "*\n",
      "* If I didn't want to let you know about my game it would just take me another few hours\n",
      "* and I wouldn't know for sure, I might say something like I have done a lot of work on it. If I am still interested\n",
      "* in the project and I can continue writing, I might give you my code.\n",
      "*\n",
      "* (The game is called in English as \"The Mother\")\n",
      "*\n",
      "\n",
      "  * Copyright (c) 1999 to present by Karel van der Marel , all rights reserved \n",
      " *\n",
      "* This program and the accompanying materials are made available under the terms of\n",
      "* the Eclipse Public License v1.0 which accompanies this distribution,\n",
      "* which can be found in the project root file epl-1.0-GPL.txt \n",
      "*\n",
      "* Contributors:\n",
      "* \n",
      "* Karel van der Marel - initial API and game implementation.  All rights\n",
      "* reserved\n",
      "*\n",
      "*\n",
      "* @author karel@jle.nl\n",
      "*/\n",
      "package org.jle.core.player.item.;\n",
      "\n",
      "/**\n",
      " * A player is represented \n",
      "* by a number of items which can represent the individual \n",
      "* player who wears the items. Each item has a unique \n",
      "* number associated with \n",
      "* it.\n",
      "* \n",
      "* @author karel@jle.nl\n",
      "*/\n",
      "public class PlayerItem extends\n",
      "*  Player\n",
      "* {\n",
      "* private static final int numberOfItems;\n",
      "* private int numberOfItemsPerGame;\n",
      "*\n",
      "* /**\n",
      "* \n",
      "* @\n",
      "================================================================================\n",
      "Model prompt >>> Traceback (most recent call last):\n",
      "  File \"/usr/lib/python3.6/contextlib.py\", line 99, in __exit__\n",
      "    self.gen.throw(type, value, traceback)\n",
      "  File \"/usr/local/lib/python3.6/dist-packages/tensorflow/python/framework/ops.py\", line 5253, in get_controller\n",
      "    yield g\n",
      "  File \"src/interactive_conditional_samples.py\", line 71, in interact_model\n",
      "    raw_text = input(\"Model prompt >>> \")\n",
      "KeyboardInterrupt\n",
      "\n",
      "During handling of the above exception, another exception occurred:\n",
      "\n",
      "Traceback (most recent call last):\n",
      "  File \"src/interactive_conditional_samples.py\", line 89, in <module>\n",
      "    fire.Fire(interact_model)\n",
      "  File \"/usr/local/lib/python3.6/dist-packages/fire/core.py\", line 127, in Fire\n",
      "    component_trace = _Fire(component, args, context, name)\n",
      "  File \"/usr/local/lib/python3.6/dist-packages/fire/core.py\", line 366, in _Fire\n",
      "    component, remaining_args)\n",
      "  File \"/usr/local/lib/python3.6/dist-packages/fire/core.py\", line 542, in _CallCallable\n",
      "    result = fn(*varargs, **kwargs)\n",
      "  File \"src/interactive_conditional_samples.py\", line 86, in interact_model\n",
      "    print(\"=\" * 80)\n",
      "  File \"/usr/local/lib/python3.6/dist-packages/tensorflow/python/client/session.py\", line 1592, in __exit__\n",
      "    self.close()\n",
      "  File \"/usr/local/lib/python3.6/dist-packages/tensorflow/python/client/session.py\", line 728, in close\n",
      "    tf_session.TF_CloseSession(self._session)\n",
      "KeyboardInterrupt\n"
     ]
    }
   ],
   "source": [
    "!python3 src/interactive_conditional_samples.py --top_k 40 --model_name \"345M\""
   ]
  },
  {
   "cell_type": "markdown",
   "metadata": {
    "colab_type": "text",
    "id": "LeDhY97XMDXn"
   },
   "source": [
    "To check flag descriptions, use:"
   ]
  },
  {
   "cell_type": "code",
   "execution_count": 0,
   "metadata": {
    "colab": {},
    "colab_type": "code",
    "id": "pBaj2L_KMAgb"
   },
   "outputs": [],
   "source": [
    "!python3 src/interactive_conditional_samples.py -- --help"
   ]
  },
  {
   "cell_type": "markdown",
   "metadata": {
    "colab_type": "text",
    "id": "K8rSqkGxg5OK"
   },
   "source": [
    "Generate unconditional samples from the model,  if you're using 345M, add \"--model-name 345M\""
   ]
  },
  {
   "cell_type": "code",
   "execution_count": 0,
   "metadata": {
    "colab": {},
    "colab_type": "code",
    "id": "LaQUEnRxWc3c"
   },
   "outputs": [],
   "source": [
    "!python3 src/generate_unconditional_samples.py --model_name \"345M\" | tee /tmp/samples"
   ]
  },
  {
   "cell_type": "markdown",
   "metadata": {
    "colab_type": "text",
    "id": "VM1Hag-JL3Bt"
   },
   "source": [
    "To check flag descriptions, use:"
   ]
  },
  {
   "cell_type": "code",
   "execution_count": 0,
   "metadata": {
    "colab": {},
    "colab_type": "code",
    "id": "Sdxfye-SL66I"
   },
   "outputs": [],
   "source": [
    "!python3 src/generate_unconditional_samples.py -- --help"
   ]
  }
 ],
 "metadata": {
  "accelerator": "GPU",
  "colab": {
   "collapsed_sections": [],
   "name": "fine_tune_GPT-2.ipynb",
   "provenance": [
    {
     "file_id": "https://github.com/ak9250/gpt-2-colab/blob/master/GPT_2.ipynb",
     "timestamp": 1558992642605
    }
   ],
   "version": "0.3.2"
  },
  "kernelspec": {
   "display_name": "Python 3",
   "language": "python",
   "name": "python3"
  },
  "language_info": {
   "codemirror_mode": {
    "name": "ipython",
    "version": 3
   },
   "file_extension": ".py",
   "mimetype": "text/x-python",
   "name": "python",
   "nbconvert_exporter": "python",
   "pygments_lexer": "ipython3",
   "version": "3.6.8"
  }
 },
 "nbformat": 4,
 "nbformat_minor": 1
}
