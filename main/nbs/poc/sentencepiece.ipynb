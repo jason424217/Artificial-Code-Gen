{
 "cells": [
  {
   "cell_type": "code",
   "execution_count": 4,
   "metadata": {
    "scrolled": true
   },
   "outputs": [],
   "source": [
    "import glob\n",
    "import os\n",
    "import sentencepiece as sp\n",
    "filenames =  ','.join(glob.glob(os.path.join(\"/tf/src/data/methods/data00m_god-r/train/*\"))[:50_000])\n",
    "# print(filenames)\n",
    "# sp.SentencePieceTrainer.train('--input=%s --model_prefix=model' % filenames)"
   ]
  },
  {
   "cell_type": "code",
   "execution_count": 8,
   "metadata": {},
   "outputs": [
    {
     "data": {
      "text/plain": [
       "True"
      ]
     },
     "execution_count": 8,
     "metadata": {},
     "output_type": "execute_result"
    }
   ],
   "source": [
    "s = sp.SentencePieceProcessor()\n",
    "s.Load(\"model.model\")"
   ]
  },
  {
   "cell_type": "code",
   "execution_count": 10,
   "metadata": {},
   "outputs": [
    {
     "name": "stdout",
     "output_type": "stream",
     "text": [
      "['▁', 'public', '▁static', '▁', 'v', 'o', 'id', '▁m', 'a', 'in', '(', 'Str', 'i', 'ng', '[', ']', '▁', 'a', 'rg', 's', ')']\n",
      "['▁public', '▁s', 't', 'at', 'ic', '▁void', '▁', 'ma', 'i', 'n', '(', 'Str', 'i', 'ng', '[]', '▁', 'args', ')']\n",
      "['▁public', '▁', 'static', '▁v', 'o', 'i', 'd', '▁', 'ma', 'i', 'n', '(', 'String', '[', ']', '▁', 'args', ')']\n",
      "['▁', 'pub', 'li', 'c', '▁st', 'at', 'i', 'c', '▁', 'v', 'oid', '▁main', '(', 'Str', 'in', 'g', '[', ']', '▁', 'arg', 's', ')']\n",
      "['▁public', '▁st', 'at', 'ic', '▁void', '▁main', '(', 'St', 'r', 'in', 'g', '[', ']', '▁', 'args', ')']\n"
     ]
    }
   ],
   "source": [
    "for n in range(5):\n",
    "    print(s.SampleEncodeAsPieces('public static void main(String[] args)', -1, 0.1))"
   ]
  },
  {
   "cell_type": "code",
   "execution_count": 6,
   "metadata": {},
   "outputs": [
    {
     "ename": "AttributeError",
     "evalue": "module 'sentencepiece' has no attribute 'Load'",
     "output_type": "error",
     "traceback": [
      "\u001b[0;31m---------------------------------------------------------------------------\u001b[0m",
      "\u001b[0;31mAttributeError\u001b[0m                            Traceback (most recent call last)",
      "\u001b[0;32m<ipython-input-6-51271713cd1e>\u001b[0m in \u001b[0;36m<module>\u001b[0;34m\u001b[0m\n\u001b[0;32m----> 1\u001b[0;31m \u001b[0msp\u001b[0m\u001b[0;34m.\u001b[0m\u001b[0mLoad\u001b[0m\u001b[0;34m(\u001b[0m\u001b[0;34m\"model.model\"\u001b[0m\u001b[0;34m)\u001b[0m\u001b[0;34m\u001b[0m\u001b[0;34m\u001b[0m\u001b[0m\n\u001b[0m",
      "\u001b[0;31mAttributeError\u001b[0m: module 'sentencepiece' has no attribute 'Load'"
     ]
    }
   ],
   "source": []
  },
  {
   "cell_type": "code",
   "execution_count": null,
   "metadata": {},
   "outputs": [],
   "source": [
    "sp"
   ]
  }
 ],
 "metadata": {
  "kernelspec": {
   "display_name": "Python 3",
   "language": "python",
   "name": "python3"
  },
  "language_info": {
   "codemirror_mode": {
    "name": "ipython",
    "version": 3
   },
   "file_extension": ".py",
   "mimetype": "text/x-python",
   "name": "python",
   "nbconvert_exporter": "python",
   "pygments_lexer": "ipython3",
   "version": "3.6.8"
  }
 },
 "nbformat": 4,
 "nbformat_minor": 2
}
