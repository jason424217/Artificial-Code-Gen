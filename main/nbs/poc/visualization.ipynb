{
 "cells": [
  {
   "cell_type": "markdown",
   "metadata": {},
   "source": [
    "# Easily export jupyter cells to python module\n",
    "https://github.com/fastai/course-v3/blob/master/nbs/dl2/notebook2script.py"
   ]
  },
  {
   "cell_type": "code",
   "execution_count": null,
   "metadata": {},
   "outputs": [],
   "source": [
    "! python /tf/src/scripts/notebook2script.py visualization.ipynb"
   ]
  },
  {
   "cell_type": "code",
   "execution_count": 1,
   "metadata": {},
   "outputs": [],
   "source": [
    "%matplotlib inline"
   ]
  },
  {
   "cell_type": "code",
   "execution_count": null,
   "metadata": {},
   "outputs": [],
   "source": [
    "! pip install -U scikit-learn seaborn"
   ]
  },
  {
   "cell_type": "code",
   "execution_count": 2,
   "metadata": {},
   "outputs": [],
   "source": [
    "#export\n",
    "from exp.nb_clustering import *\n",
    "import matplotlib.pyplot as plt\n",
    "import matplotlib\n",
    "import seaborn as sns\n",
    "from data import D2VEmbedder"
   ]
  },
  {
   "cell_type": "code",
   "execution_count": 3,
   "metadata": {},
   "outputs": [
    {
     "name": "stdout",
     "output_type": "stream",
     "text": [
      "/tf/src/data/features\n"
     ]
    }
   ],
   "source": [
    "cd /tf/src/data/features"
   ]
  },
  {
   "cell_type": "markdown",
   "metadata": {},
   "source": [
    "# Generate all the feature vectors\n",
    "(Skip if already done)\n"
   ]
  },
  {
   "cell_type": "code",
   "execution_count": null,
   "metadata": {},
   "outputs": [],
   "source": [
    "embdr = D2VEmbedder(\"/tf/src/data/doc2vec/model\")"
   ]
  },
  {
   "cell_type": "code",
   "execution_count": null,
   "metadata": {},
   "outputs": [],
   "source": [
    "# Generate and Save Human Features\n",
    "hman_dict = embdr(\"/tf/src/data/methods/DATA00M_[god-r]/test\")\n",
    "\n",
    "with open('hman_features.pickle', 'wb') as f:\n",
    "    pickle.dump(hman_dict, f, protocol=pickle.HIGHEST_PROTOCOL)"
   ]
  },
  {
   "cell_type": "code",
   "execution_count": null,
   "metadata": {},
   "outputs": [],
   "source": [
    "# Generate and Save GPT-2 Pretrained Features\n",
    "m1_dict = embdr(\"/tf/src/data/samples/unconditional/m1_example\")\n",
    "\n",
    "with open('m1_features.pickle', 'wb') as f:\n",
    "    pickle.dump(m1_dict, f, protocol=pickle.HIGHEST_PROTOCOL)"
   ]
  },
  {
   "cell_type": "markdown",
   "metadata": {},
   "source": [
    "# Read in Feature Vectors"
   ]
  },
  {
   "cell_type": "code",
   "execution_count": 4,
   "metadata": {},
   "outputs": [],
   "source": [
    "models_path = \"/tf/src/data/features/output_space\"\n",
    "models_features = load_features(models_path)\n",
    "# models_features[0] = models_features[1]"
   ]
  },
  {
   "cell_type": "markdown",
   "metadata": {},
   "source": [
    "# Visualize Features"
   ]
  },
  {
   "cell_type": "code",
   "execution_count": 5,
   "metadata": {},
   "outputs": [
    {
     "name": "stdout",
     "output_type": "stream",
     "text": [
      "[t-SNE] Computing 99 nearest neighbors...\n",
      "[t-SNE] Indexed 100 samples in 0.000s...\n",
      "[t-SNE] Computed neighbors for 100 samples in 0.001s...\n",
      "[t-SNE] Computed conditional probabilities for sample 100 / 100\n",
      "[t-SNE] Mean sigma: 3.040752\n",
      "[t-SNE] KL divergence after 250 iterations with early exaggeration: 76.595909\n",
      "[t-SNE] KL divergence after 300 iterations: 1.076706\n",
      "Best K was 3 with a silhouette score of 0.31323048\n",
      "[t-SNE] Computing 99 nearest neighbors...\n",
      "[t-SNE] Indexed 100 samples in 0.000s...\n",
      "[t-SNE] Computed neighbors for 100 samples in 0.001s...\n",
      "[t-SNE] Computed conditional probabilities for sample 100 / 100\n",
      "[t-SNE] Mean sigma: 5.540578\n",
      "[t-SNE] KL divergence after 250 iterations with early exaggeration: 68.939560\n",
      "[t-SNE] KL divergence after 300 iterations: 1.054430\n",
      "Best K was 4 with a silhouette score of 0.31918123\n"
     ]
    }
   ],
   "source": [
    "models_clusters = cluster(models_features, k_range = [2, 3, 4, 5])"
   ]
  },
  {
   "cell_type": "code",
   "execution_count": null,
   "metadata": {},
   "outputs": [],
   "source": [
    "models_clusters[0][0].shape"
   ]
  },
  {
   "cell_type": "code",
   "execution_count": null,
   "metadata": {},
   "outputs": [],
   "source": [
    "len(list(models_features[0].values()))"
   ]
  },
  {
   "cell_type": "code",
   "execution_count": null,
   "metadata": {},
   "outputs": [],
   "source": [
    "colours = np.array(list(range(1, 10)))\n",
    "colours"
   ]
  },
  {
   "cell_type": "code",
   "execution_count": null,
   "metadata": {
    "scrolled": true
   },
   "outputs": [],
   "source": [
    "for i, feature_dict in enumerate(models_features):\n",
    "    feature_vectors = reduce_dims(np.array(list(feature_dict.values())[:100]), 2)\n",
    "    labels, centroids, kmeans = models_clusters[i]\n",
    "#     kmeans = KMeans(init='k-means++', n_clusters=5, n_init=10)\n",
    "#     kmeans.fit(feature_vectors)\n",
    "    # Step size of the mesh. Decrease to increase the quality of the VQ.\n",
    "    h = .02     # point in the mesh [x_min, x_max]x[y_min, y_max].\n",
    "\n",
    "    # Plot the decision boundary. For that, we will assign a color to each\n",
    "    x_min, x_max = feature_vectors[:, 0].min() - 1, feature_vectors[:, 0].max() + 1\n",
    "    y_min, y_max = feature_vectors[:, 1].min() - 1, feature_vectors[:, 1].max() + 1\n",
    "    xx, yy = np.meshgrid(np.arange(x_min, x_max, h), np.arange(y_min, y_max, h))\n",
    "    \n",
    "    Z = kmeans.predict(np.c_[xx.ravel(), yy.ravel()])\n",
    "    Z = Z.reshape(xx.shape)\n",
    "    plt.figure(1)\n",
    "    plt.clf()\n",
    "    plt.imshow(Z, interpolation='nearest',\n",
    "               extent=(xx.min(), xx.max(), yy.min(), yy.max()),\n",
    "               cmap=plt.cm.Paired,\n",
    "               aspect='auto', origin='lower')\n",
    "\n",
    "    plt.plot(feature_vectors[:, 0], feature_vectors[:, 1], 'k.', markersize=2)\n",
    "    # Plot the centroids as a white X\n",
    "    centroids = kmeans.cluster_centers_\n",
    "    plt.scatter(centroids[:, 0], centroids[:, 1],\n",
    "                marker='x', s=169, linewidths=3,\n",
    "                color='w', zorder=10)\n",
    "    plt.title('K-means clustering on the digits dataset (PCA-reduced data)\\n'\n",
    "              'Centroids are marked with white cross')\n",
    "    plt.xlim(x_min, x_max)\n",
    "    plt.ylim(y_min, y_max)\n",
    "    plt.xticks(())\n",
    "    plt.yticks(())\n",
    "    plt.show()"
   ]
  },
  {
   "cell_type": "code",
   "execution_count": 9,
   "metadata": {},
   "outputs": [],
   "source": [
    "def setup_data(clusters):\n",
    "    feature_vectors, _, centroids, kmeans = clusters\n",
    "    # Step size of the mesh. Decrease to increase the quality of the VQ.\n",
    "    h = .02     # point in the mesh [x_min, x_max]x[y_min, y_max].\n",
    "\n",
    "    # Plot the decision boundary. For that, we will assign a color to each\n",
    "    x_min, x_max = feature_vectors[:, 0].min() - 1, feature_vectors[:, 0].max() + 1\n",
    "    y_min, y_max = feature_vectors[:, 1].min() - 1, feature_vectors[:, 1].max() + 1\n",
    "    xx, yy = np.meshgrid(np.arange(x_min, x_max, h), np.arange(y_min, y_max, h))\n",
    "    \n",
    "    Z = kmeans.predict(np.c_[xx.ravel(), yy.ravel()])\n",
    "    Z = Z.reshape(xx.shape)\n",
    "    \n",
    "    return feature_vectors, centroids, xx, yy, Z"
   ]
  },
  {
   "cell_type": "code",
   "execution_count": 14,
   "metadata": {},
   "outputs": [],
   "source": [
    "def plot_features(models_features):\n",
    "    plt.figure(figsize=(9, 3))\n",
    "    plt.clf()\n",
    "    for i, clusters in enumerate(models_clusters):\n",
    "        # Setup data to be plotted\n",
    "        feature_vectors, centroids, xx, yy, Z = setup_data(clusters)\n",
    "        \n",
    "        # Plot data\n",
    "        plt.subplot(1, 2, 1 + i)\n",
    "        plt.imshow(Z, interpolation='nearest',\n",
    "               extent=(xx.min(), xx.max(), yy.min(), yy.max()),\n",
    "               cmap=plt.cm.Paired,\n",
    "               aspect='auto', origin='lower')\n",
    "\n",
    "        plt.plot(feature_vectors[:, 0], feature_vectors[:, 1], 'k.', markersize=2)\n",
    "        # Plot the centroids as a white X\n",
    "        plt.scatter(centroids[:, 0], centroids[:, 1],\n",
    "                    marker='x', s=169, linewidths=3,\n",
    "                    color='w', zorder=10)\n",
    "        plt.title('K-means clustering on the digits dataset\\n(PCA-reduced data)\\n'\n",
    "                  'Centroids are marked with white cross')\n",
    "        plt.xlim(xx.min(), xx.max())\n",
    "        plt.ylim(yy.min(), yy.max())\n",
    "        plt.xticks(())\n",
    "        plt.yticks(())\n",
    "    plt.show()"
   ]
  },
  {
   "cell_type": "code",
   "execution_count": 15,
   "metadata": {},
   "outputs": [
    {
     "data": {
      "image/png": "[encoded data removed]",
      "text/plain": [
       "<Figure size 648x216 with 2 Axes>"
      ]
     },
     "metadata": {},
     "output_type": "display_data"
    }
   ],
   "source": [
    "plot_features(models_features)"
   ]
  },
  {
   "cell_type": "code",
   "execution_count": null,
   "metadata": {},
   "outputs": [],
   "source": [
    "colmap = {0: 'r',\n",
    "          1: 'g',\n",
    "          2: 'b',\n",
    "          3: 'k',\n",
    "          4: 'y',\n",
    "          5: 'm',\n",
    "          6: 'c'\n",
    "         }\n",
    "plt.figure(figsize=(9, 3))\n",
    "for i, feature_dict in enumerate(models_features):\n",
    "#     if i == 1: break\n",
    "    \n",
    "    feature_vectors = np.array(list(feature_dict.values())[:100])\n",
    "    \n",
    "    # Step size of the mesh. Decrease to increase the quality of the VQ.\n",
    "    h = .02     # point in the mesh [x_min, x_max]x[y_min, y_max].\n",
    "\n",
    "    # Plot the decision boundary. For that, we will assign a color to each\n",
    "    x_min, x_max = feature_vectors[:, 0].min() - 1, feature_vectors[:, 0].max() + 1\n",
    "    y_min, y_max = feature_vectors[:, 1].min() - 1, feature_vectors[:, 1].max() + 1\n",
    "    xx, yy = np.meshgrid(np.arange(x_min, x_max, h), np.arange(y_min, y_max, h))\n",
    "    \n",
    "    Z = kmeans.predict(np.c_[xx.ravel(), yy.ravel()])\n",
    "\n",
    "#     colors = list(map(lambda x: colmap[x], models_clusters[i][0]))\n",
    "    \n",
    "    plt.subplot(1, 3, 1 + i)\n",
    "    plt.scatter(feature_vectors[:, 0], feature_vectors[:, 1], color = colors, alpha=0.5, edgecolor='k')\n",
    "#     for idx, centroid in enumerate(models_clusters[i][1]):\n",
    "#         plt.scatter(*centroid, color=colmap[idx])\n",
    "#     plt.xlim(-60, 50)\n",
    "#     plt.ylim(-60, 50)\n",
    "plt.show()"
   ]
  },
  {
   "cell_type": "code",
   "execution_count": null,
   "metadata": {},
   "outputs": [],
   "source": [
    "plt.figure(1)\n",
    "plt.subplot(211)\n",
    "plt.plot(t1, f(t1), 'bo', t2, f(t2), 'k')\n",
    "\n",
    "plt.subplot(212)\n",
    "plt.plot(t2, np.cos(2*np.pi*t2), 'r--')\n",
    "plt.show()"
   ]
  },
  {
   "cell_type": "code",
   "execution_count": null,
   "metadata": {},
   "outputs": [],
   "source": [
    "kmeans = KMeans(n_clusters=3)\n",
    "\n",
    "kmeans.fit(pca_features)\n",
    "\n",
    "colmap = {1: 'r', 2: 'g', 3: 'b'}\n",
    "\n",
    "labels = kmeans.predict(pca_features)\n",
    "centroids = kmeans.cluster_centers_\n",
    "\n",
    "print(labels)\n",
    "print(centroids)"
   ]
  },
  {
   "cell_type": "code",
   "execution_count": null,
   "metadata": {},
   "outputs": [],
   "source": [
    "fig = plt.figure(figsize=(5, 5))\n",
    "\n",
    "colors = list(map(lambda x: colmap[x+1], labels))\n",
    "\n",
    "plt.scatter(pca_features[:, 0], pca_features[:, 1], color=colors, alpha=0.05, edgecolor='k')\n",
    "for idx, centroid in enumerate(centroids):\n",
    "    plt.scatter(*centroid, color=colmap[idx+1])\n",
    "plt.xlim(-10, 10)\n",
    "plt.ylim(-10, 10)\n",
    "plt.show()"
   ]
  },
  {
   "cell_type": "markdown",
   "metadata": {},
   "source": [
    "# T-SNE Only"
   ]
  },
  {
   "cell_type": "code",
   "execution_count": null,
   "metadata": {},
   "outputs": [],
   "source": [
    "fig = plt.figure(figsize=(5, 5))\n",
    "\n",
    "colors = list(map(lambda x: colmap[x+1], labels))\n",
    "# print(colors)\n",
    "\n",
    "plt.scatter(pca_features[:, 0], pca_features[:, 1], color=colors, alpha=0.1, edgecolor='k')\n",
    "for idx, centroid in enumerate(centroids):\n",
    "    plt.scatter(*centroid, color=colmap[idx+1])\n",
    "plt.xlim(-10, 10)\n",
    "plt.ylim(-10, 10)\n",
    "plt.show()"
   ]
  },
  {
   "cell_type": "code",
   "execution_count": null,
   "metadata": {},
   "outputs": [],
   "source": [
    "tsne = TSNE(n_components=2, verbose=1, perplexity=40, n_iter=300)\n",
    "tsne_results = tsne.fit_transform(feature_vectors)"
   ]
  },
  {
   "cell_type": "code",
   "execution_count": null,
   "metadata": {},
   "outputs": [],
   "source": [
    "print(tsne_results.shape)"
   ]
  },
  {
   "cell_type": "code",
   "execution_count": null,
   "metadata": {},
   "outputs": [],
   "source": [
    "kmeans = KMeans(n_clusters=3)\n",
    "\n",
    "kmeans.fit(tsne_results)\n",
    "\n",
    "colmap = {1: 'r', 2: 'g', 3: 'b'}\n",
    "\n",
    "tsne_labels = kmeans.predict(tsne_results)\n",
    "tsne_centroids = kmeans.cluster_centers_\n",
    "\n",
    "print(tsne_labels)\n",
    "print(tsne_centroids)"
   ]
  },
  {
   "cell_type": "code",
   "execution_count": null,
   "metadata": {},
   "outputs": [],
   "source": [
    "fig = plt.figure(figsize=(5, 5))\n",
    "\n",
    "colors = list(map(lambda x: colmap[x+1], labels))\n",
    "# print(colors)\n",
    "\n",
    "plt.scatter(tsne_results[:, 0], tsne_results[:, 1], color=colors, alpha=0.05, edgecolor='k')\n",
    "for idx, centroid in enumerate(tsne_centroids):\n",
    "    \n",
    "    plt.scatter(*centroid, color=colmap[idx+1])\n",
    "plt.xlim(-10, 10)\n",
    "plt.ylim(-10, 10)\n",
    "plt.show()"
   ]
  },
  {
   "cell_type": "code",
   "execution_count": null,
   "metadata": {},
   "outputs": [],
   "source": [
    "pca = PCA(n_components=50)\n",
    "pca_features = pca.fit_transform(feature_vectors)\n",
    "\n",
    "print(pca_features.shape)"
   ]
  },
  {
   "cell_type": "code",
   "execution_count": null,
   "metadata": {},
   "outputs": [],
   "source": [
    "tsne = TSNE(n_components=2, verbose=1, perplexity=40, n_iter=300)\n",
    "tsne_results = tsne.fit_transform(pca_features)\n",
    "\n",
    "print(tsne_results.shape)"
   ]
  },
  {
   "cell_type": "code",
   "execution_count": null,
   "metadata": {},
   "outputs": [],
   "source": [
    "kmeans = KMeans(n_clusters=3)\n",
    "\n",
    "kmeans.fit(tsne_results)\n",
    "\n",
    "colmap = {1: 'r', 2: 'g', 3: 'b'}\n",
    "\n",
    "tsne_labels = kmeans.predict(tsne_results)\n",
    "tsne_centroids = kmeans.cluster_centers_\n",
    "\n",
    "print(tsne_labels)\n",
    "print(tsne_centroids)"
   ]
  },
  {
   "cell_type": "code",
   "execution_count": null,
   "metadata": {},
   "outputs": [],
   "source": [
    "fig = plt.figure(figsize=(5, 5))\n",
    "\n",
    "colors = list(map(lambda x: colmap[x+1], tsne_labels))\n",
    "# print(colors)\n",
    "\n",
    "plt.scatter(tsne_results[:, 0], tsne_results[:, 1], color=colors, alpha=0.05, edgecolor='k')\n",
    "for idx, centroid in enumerate(tsne_centroids):\n",
    "    plt.scatter(*centroid, color=colmap[idx+1])\n",
    "plt.xlim(-10, 10)\n",
    "plt.ylim(-10, 10)\n",
    "plt.show()"
   ]
  },
  {
   "cell_type": "code",
   "execution_count": null,
   "metadata": {},
   "outputs": [],
   "source": []
  }
 ],
 "metadata": {
  "kernelspec": {
   "display_name": "Python 3",
   "language": "python",
   "name": "python3"
  },
  "language_info": {
   "codemirror_mode": {
    "name": "ipython",
    "version": 3
   },
   "file_extension": ".py",
   "mimetype": "text/x-python",
   "name": "python",
   "nbconvert_exporter": "python",
   "pygments_lexer": "ipython3",
   "version": "3.6.8"
  }
 },
 "nbformat": 4,
 "nbformat_minor": 2
}
