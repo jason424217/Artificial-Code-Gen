{
 "cells": [
  {
   "cell_type": "markdown",
   "metadata": {},
   "source": [
    "# Easily export jupyter cells to python module\n",
    "https://github.com/fastai/course-v3/blob/master/nbs/dl2/notebook2script.py"
   ]
  },
  {
   "cell_type": "code",
   "execution_count": 3,
   "metadata": {},
   "outputs": [
    {
     "name": "stdout",
     "output_type": "stream",
     "text": [
      "Converted clustering.ipynb to exp/nb_clustering.py\r\n"
     ]
    }
   ],
   "source": [
    "! python /tf/src/scripts/notebook2script.py clustering.ipynb"
   ]
  },
  {
   "cell_type": "code",
   "execution_count": null,
   "metadata": {
    "scrolled": true
   },
   "outputs": [],
   "source": [
    "cd /tf/src/data/features"
   ]
  },
  {
   "cell_type": "code",
   "execution_count": null,
   "metadata": {},
   "outputs": [],
   "source": [
    "! pip3 install scipy"
   ]
  },
  {
   "cell_type": "code",
   "execution_count": null,
   "metadata": {},
   "outputs": [],
   "source": [
    "#export\n",
    "import pickle\n",
    "import numpy as np\n",
    "import os\n",
    "from sklearn.cluster import KMeans\n",
    "from sklearn.decomposition import PCA\n",
    "from sklearn.manifold import TSNE\n",
    "from sklearn.metrics import silhouette_score, pairwise_distances_argmin_min"
   ]
  },
  {
   "cell_type": "markdown",
   "metadata": {},
   "source": [
    "# K -means"
   ]
  },
  {
   "cell_type": "code",
   "execution_count": null,
   "metadata": {},
   "outputs": [],
   "source": [
    "# Reading in the data\n",
    "with open('hman_features.pickle', 'rb') as f:\n",
    "    hman_dict = pickle.load(f)\n",
    "\n",
    "hman_features = np.array(list(hman_dict.values()))\n",
    "print(hman_features.shape)"
   ]
  },
  {
   "cell_type": "code",
   "execution_count": null,
   "metadata": {},
   "outputs": [],
   "source": [
    "#export\n",
    "def load_features(path):\n",
    "    _, _, fnames = next(os.walk(path))\n",
    "    \n",
    "    features = []\n",
    "    for fname in fnames:\n",
    "        with open(os.path.join(path, fname), 'rb') as f:\n",
    "            feature_dict = pickle.load(f)\n",
    "            features.append(feature_dict)\n",
    "    \n",
    "    return features"
   ]
  },
  {
   "cell_type": "code",
   "execution_count": null,
   "metadata": {},
   "outputs": [],
   "source": [
    "models_path = \"/tf/src/data/features/output_space\"\n",
    "models_features = load_features(models_path)"
   ]
  },
  {
   "cell_type": "code",
   "execution_count": null,
   "metadata": {},
   "outputs": [],
   "source": [
    "# Testing that the keys and values are aligned inside dictionaries\n",
    "test_1 = list(models_features[0].values())\n",
    "test_2 = list(models_features[0].keys())\n",
    "\n",
    "assert (models_features[0][test_2[0]] == test_1[0]).all()"
   ]
  },
  {
   "cell_type": "markdown",
   "metadata": {},
   "source": [
    "## Failed Attempts to use Simulated Annealing for K-means"
   ]
  },
  {
   "cell_type": "code",
   "execution_count": null,
   "metadata": {},
   "outputs": [],
   "source": [
    "def calc_silhouette(feature_vectors, k):\n",
    "    kmeans = KMeans(n_clusters = int(k[0]))\n",
    "    kmeans.fit(feature_vectors)\n",
    "\n",
    "    labels    = kmeans.predict(feature_vectors)\n",
    "    silhouette_avg = silhouette_score(feature_vectors, labels)\n",
    "    \n",
    "    return silhouette_avg"
   ]
  },
  {
   "cell_type": "code",
   "execution_count": null,
   "metadata": {},
   "outputs": [],
   "source": [
    "feature_vectors = np.array(list(models_features[0].values())[:100])\n",
    "calc_silhouette(feature_vectors, [4])"
   ]
  },
  {
   "cell_type": "code",
   "execution_count": null,
   "metadata": {},
   "outputs": [],
   "source": [
    "def find_bst_k(feature_vectors):\n",
    "    lw_bnd = [2]\n",
    "    up_bnd = [3]\n",
    "    minimizer_kwargs = {\"method\": \"BFGS\"}\n",
    "    res = optimize.dual_annealing(partial(calc_silhouette, feature_vectors),\n",
    "                                  bounds = list(zip(lw_bnd, up_bnd)),\n",
    "                                  maxiter=100\n",
    "                                 )\n",
    "    \n",
    "    return res"
   ]
  },
  {
   "cell_type": "code",
   "execution_count": null,
   "metadata": {},
   "outputs": [],
   "source": [
    "feature_vectors = np.array(list(models_features[0].values())[:100])\n",
    "res = find_bst_k(feature_vectors)"
   ]
  },
  {
   "cell_type": "code",
   "execution_count": null,
   "metadata": {},
   "outputs": [],
   "source": [
    "print(\"global minimum: xmin = {0}, f(xmin) = {1:.6f}\".format(res.x, res.fun))"
   ]
  },
  {
   "cell_type": "code",
   "execution_count": null,
   "metadata": {},
   "outputs": [],
   "source": [
    "#export\n",
    "def k_means(feature_vectors, k_range=[2, 3]):\n",
    "    # finding best k\n",
    "    bst_k          = k_range[0]\n",
    "    bst_silhouette = -1\n",
    "    bst_labels     = None\n",
    "    bst_centroids  = None\n",
    "    bst_kmeans     = None\n",
    "    for k in k_range:\n",
    "        kmeans = KMeans(n_clusters = k)\n",
    "        kmeans.fit(feature_vectors)\n",
    "\n",
    "        labels    = kmeans.predict(feature_vectors)\n",
    "        centroids = kmeans.cluster_centers_\n",
    "        \n",
    "        silhouette_avg = silhouette_score(feature_vectors, labels)\n",
    "        if silhouette_avg > bst_silhouette:\n",
    "            bst_k          = k\n",
    "            bst_silhouette = silhouette_avg\n",
    "            bst_labels     = labels\n",
    "            bst_centroids  = centroids\n",
    "            bst_kmeans     = kmeans\n",
    "    \n",
    "    print(\"Best K was\", bst_k, \"with a silhouette score of\", bst_silhouette)\n",
    "    \n",
    "    centroid_mthds = pairwise_distances_argmin_min(bst_centroids, feature_vectors)\n",
    "    return bst_labels, bst_centroids, bst_kmeans, centroid_mthds"
   ]
  },
  {
   "cell_type": "code",
   "execution_count": null,
   "metadata": {
    "scrolled": true
   },
   "outputs": [],
   "source": [
    "for model in models_features:\n",
    "    feature_vectors = np.array(list(model.values()))\n",
    "    labels, centroids = k_means(feature_vectors)\n",
    "    print(labels.shape, centroids.shape)"
   ]
  },
  {
   "cell_type": "code",
   "execution_count": null,
   "metadata": {},
   "outputs": [],
   "source": [
    "#export\n",
    "# Uses PCA first and then t-SNE\n",
    "def reduce_dims(feature_vectors, dims = 2):\n",
    "    # hyperparameters from https://towardsdatascience.com/visualising-high-dimensional-datasets-using-pca-and-t-sne-in-python-8ef87e7915b\n",
    "    pca = PCA(n_components=50)\n",
    "    pca_features = pca.fit_transform(feature_vectors)\n",
    "\n",
    "    tsne = TSNE(n_components=dims, verbose=1, perplexity=40, n_iter=300)\n",
    "    tsne_features = tsne.fit_transform(pca_features)\n",
    "    \n",
    "    return tsne_features"
   ]
  },
  {
   "cell_type": "code",
   "execution_count": null,
   "metadata": {},
   "outputs": [],
   "source": [
    "#export\n",
    "def cluster(models_features, k_range = [2], dims = 2):\n",
    "    clusters = []\n",
    "    for model in models_features:\n",
    "        feature_vectors = reduce_dims(np.array(list(model.values())), dims = dims)\n",
    "        \n",
    "        experimental_vectors = feature_vectors[:len(experimental_vectors) * 0.1]\n",
    "        labels, centroids, kmeans, centroid_mthds = k_means(experimental_vectors, k_range = k_range)\n",
    "        clusters.append((feature_vectors, centroid_mthds, labels, centroids, kmeans))\n",
    "    \n",
    "    return clusters"
   ]
  },
  {
   "cell_type": "code",
   "execution_count": null,
   "metadata": {},
   "outputs": [],
   "source": [
    "models_clusters = cluster(models_features)"
   ]
  },
  {
   "cell_type": "code",
   "execution_count": null,
   "metadata": {},
   "outputs": [],
   "source": []
  }
 ],
 "metadata": {
  "kernelspec": {
   "display_name": "Python 3",
   "language": "python",
   "name": "python3"
  },
  "language_info": {
   "codemirror_mode": {
    "name": "ipython",
    "version": 3
   },
   "file_extension": ".py",
   "mimetype": "text/x-python",
   "name": "python",
   "nbconvert_exporter": "python",
   "pygments_lexer": "ipython3",
   "version": "3.6.8"
  }
 },
 "nbformat": 4,
 "nbformat_minor": 2
}
